{
 "cells": [
  {
   "cell_type": "code",
   "execution_count": null,
   "metadata": {},
   "outputs": [],
   "source": [
    "import numpy as np\n",
    "import pandas as pd"
   ]
  },
  {
   "cell_type": "code",
   "execution_count": null,
   "metadata": {},
   "outputs": [],
   "source": [
    "puma_acs_data = pd.read_csv(\"data/ACS_2018.csv\")\n",
    "puma_lodes_data = pd.read_csv(\"data/wac_puma.csv\")\n",
    "\n",
    "puma_acs_data[\"PUMA\"] = puma_acs_data[\"PUMA\"].astype(str).str.zfill(7)\n",
    "puma_acs_data = puma_acs_data.set_index(\"PUMA\")\n",
    "\n",
    "puma_lodes_data[\"puma\"] = puma_lodes_data[\"puma\"].astype(str).str.zfill(7)\n",
    "puma_lodes_data = puma_lodes_data.set_index(\"puma\")"
   ]
  },
  {
   "cell_type": "code",
   "execution_count": null,
   "metadata": {},
   "outputs": [],
   "source": [
    "df = pd.read_csv(\"data/psam_p21.csv\")\n",
    "df"
   ]
  },
  {
   "cell_type": "code",
   "execution_count": null,
   "metadata": {},
   "outputs": [],
   "source": [
    "df_h = pd.read_csv(\"data/psam_h21.csv\")\n",
    "df_h"
   ]
  },
  {
   "cell_type": "code",
   "execution_count": null,
   "metadata": {},
   "outputs": [],
   "source": [
    "df_h[df_h[\"HUPAOC\"] == 4][[\"SERIALNO\", \"HUPAOC\"]]"
   ]
  },
  {
   "cell_type": "code",
   "execution_count": null,
   "metadata": {},
   "outputs": [],
   "source": [
    "child = df_h[[\"HUPAOC\", \"SERIALNO\"]].groupby(\"SERIALNO\").first()\n",
    "df = pd.merge(df, child, left_on=\"SERIALNO\", right_index=True, how=\"left\")\n",
    "df[\"child\"] = np.where(df[\"HUPAOC\"] == 4, 0, 1)\n",
    "df[\"child\"]"
   ]
  },
  {
   "cell_type": "code",
   "execution_count": null,
   "metadata": {},
   "outputs": [],
   "source": [
    "df[\"child\"].value_counts()"
   ]
  },
  {
   "cell_type": "code",
   "execution_count": null,
   "metadata": {},
   "outputs": [],
   "source": [
    "df[\"FER_CL\"] = df[\"FER\"].fillna(0)\n",
    "df[\"FER_CL\"] = np.where(df[\"FER_CL\"] == 2, 0, df[\"FER_CL\"])\n",
    "df[\"FER_CL\"].value_counts()"
   ]
  },
  {
   "cell_type": "code",
   "execution_count": null,
   "metadata": {},
   "outputs": [],
   "source": [
    "rec_child = df.groupby(\"SERIALNO\")[\"FER_CL\"].max()"
   ]
  },
  {
   "cell_type": "code",
   "execution_count": null,
   "metadata": {},
   "outputs": [],
   "source": [
    "df[\"REC_CHILD\"] = df[\"SERIALNO\"].apply(lambda x: rec_child.loc[x])"
   ]
  },
  {
   "cell_type": "code",
   "execution_count": null,
   "metadata": {},
   "outputs": [],
   "source": [
    "df_h[[\"HUPAOC\", \"SERIALNO\"]].groupby(\"SERIALNO\").last()"
   ]
  },
  {
   "cell_type": "code",
   "execution_count": null,
   "metadata": {},
   "outputs": [],
   "source": [
    "# df_household = pd.read_csv(\"./psam_h21.csv\")\n",
    "# df_household = df_household[[\"SERIALNO\", \"NP\", \"TYPE\", \"RNTP\", \"TEN\", \"VALP\", \"VEH\", \"GRNTP\", \"GRPIP\", \"HINCP\", \"MV\", \"OCPIP\", \"SMOCP\", \"TAXAMT\", \"WIF\", \"WKEXREL\"]].set_index(\"SERIALNO\")\n",
    "# df_household"
   ]
  },
  {
   "cell_type": "code",
   "execution_count": null,
   "metadata": {},
   "outputs": [],
   "source": [
    "# df = pd.merge(df_person, df_household, how=\"left\", on=\"SERIALNO\")\n",
    "# df"
   ]
  },
  {
   "cell_type": "code",
   "execution_count": null,
   "metadata": {},
   "outputs": [],
   "source": [
    "distances = pd.read_csv(\"data/ky_distances.csv\").set_index(\"Unnamed: 0\")\n",
    "distances.index = distances.index.astype(str)\n",
    "distances.columns = distances.columns.map(str)\n",
    "distances"
   ]
  },
  {
   "cell_type": "code",
   "execution_count": null,
   "metadata": {},
   "outputs": [],
   "source": [
    "df_subset = df[df[\"AGEP\"] >= 18]"
   ]
  },
  {
   "cell_type": "code",
   "execution_count": null,
   "metadata": {},
   "outputs": [],
   "source": [
    "df_subset[\"MIGPUMA\"] = df_subset[\"MIGPUMA\"].fillna(0)\n",
    "df_subset[\"MIGSP\"] = df_subset[\"MIGSP\"].fillna(0)\n",
    "df_subset[\"MIGPUMA1\"] = df_subset[\"MIGSP\"].astype(int).astype(str).str.zfill(2) + df_subset[\"MIGPUMA\"].astype(int).astype(str).str.zfill(5)\n",
    "df_subset[\"PUMA1\"] = df_subset[\"ST\"].astype(str).str.zfill(2) + df_subset[\"PUMA\"].astype(str).str.zfill(5)\n",
    "df_subset[[\"MIGPUMA1\", \"PUMA1\"]]"
   ]
  },
  {
   "cell_type": "code",
   "execution_count": null,
   "metadata": {},
   "outputs": [],
   "source": [
    "# all migrations within Kentucky to Kentucky\n",
    "\n",
    "df_subset = df_subset[(df_subset[\"MIGPUMA1\"] == \"0000000\") | (df_subset[\"MIGPUMA1\"].isin(list(distances.index.astype(str))))]\n",
    "df_subset"
   ]
  },
  {
   "cell_type": "code",
   "execution_count": null,
   "metadata": {},
   "outputs": [],
   "source": [
    "df_subset[\"STAY\"] = np.where(df_subset[\"MIGPUMA1\"] == \"0000000\", 1, 0)"
   ]
  },
  {
   "cell_type": "code",
   "execution_count": null,
   "metadata": {},
   "outputs": [],
   "source": [
    "df_subset = df_subset.rename(columns={\"PUMA1\":\"CHOSEN\", \"MIGPUMA1\": \"ORIGIN\"})"
   ]
  },
  {
   "cell_type": "code",
   "execution_count": null,
   "metadata": {},
   "outputs": [],
   "source": [
    "puma_migpuma = pd.read_excel(\"data/puma_migpuma.xlsx\", dtype=\"str\")\n",
    "puma_migpuma[\"PUMA\"] = puma_migpuma[\"State\"] + puma_migpuma[\"PUMA\"]\n",
    "puma_migpuma[\"MIGPUMA\"] = puma_migpuma[\"State\"] + puma_migpuma[\"MIGPUMA\"]\n",
    "puma_migpuma = puma_migpuma.set_index(\"PUMA\")\n",
    "puma_migpuma.head()"
   ]
  },
  {
   "cell_type": "code",
   "execution_count": null,
   "metadata": {},
   "outputs": [],
   "source": [
    "for i, person in df_subset.iterrows():\n",
    "    if person[\"ORIGIN\"] == \"0000000\":\n",
    "        df_subset.loc[i, \"ORIGIN\"] = puma_migpuma.loc[person[\"CHOSEN\"], \"MIGPUMA\"]"
   ]
  },
  {
   "cell_type": "code",
   "execution_count": null,
   "metadata": {},
   "outputs": [],
   "source": [
    "# times = pd.read_csv(\"ky_times.csv\").set_index(\"Unnamed: 0\")\n",
    "\n",
    "# times.index = times.index.astype(str)\n",
    "# times.columns = times.columns.map(str)\n",
    "\n",
    "# times"
   ]
  },
  {
   "cell_type": "code",
   "execution_count": null,
   "metadata": {},
   "outputs": [],
   "source": [
    "# creating alternatives\n",
    "for i, puma in enumerate(distances.columns):\n",
    "    df_subset[\"ALT\" + str(i + 1) + \"_PUMA\"] = puma\n",
    "    df_subset[\"ALT\" + str(i + 1) + \"_INTERNAL_MOVE\"] = 0\n",
    "    df_subset[\"ALT\" + str(i + 1) + \"_POP\"] = puma_acs_data.loc[puma, \"Total Population\"]\n",
    "    df_subset[\"ALT\" + str(i + 1) + \"_EMP\"] = puma_lodes_data.loc[puma, \"TOT_JOBS\"]"
   ]
  },
  {
   "cell_type": "code",
   "execution_count": null,
   "metadata": {},
   "outputs": [],
   "source": [
    "distance_matrix = pd.read_csv(\"data/puma_distance_matrix.csv\", dtype={\"Unnamed: 0\":str}).set_index(\"Unnamed: 0\")\n",
    "time_matrix = pd.read_csv(\"data/puma_time_matrix.csv\", dtype={\"Unnamed: 0\":str}).set_index(\"Unnamed: 0\")\n",
    "distance_matrix"
   ]
  },
  {
   "cell_type": "code",
   "execution_count": null,
   "metadata": {},
   "outputs": [],
   "source": [
    "naics_key = pd.read_csv(\"data/puma_naics.txt\", sep=\" \", header=None).set_index(0)\n",
    "naics_key = naics_key.T.to_dict(\"list\")\n",
    "naics_key = {key:value[0] for key, value in zip(naics_key.keys(), naics_key.values())}\n",
    "naics_key"
   ]
  },
  {
   "cell_type": "code",
   "execution_count": null,
   "metadata": {},
   "outputs": [],
   "source": [
    "df_subset[\"NAICS\"] = df_subset[\"NAICSP\"].map(naics_key)\n",
    "df_subset[\"NAICS\"] = df_subset[\"NAICS\"].str.strip(\".,\").str[0:3]"
   ]
  },
  {
   "cell_type": "code",
   "execution_count": null,
   "metadata": {},
   "outputs": [],
   "source": [
    "df_subset[\"NAICS\"] = df_subset[\"NAICS\"].replace(\"Une\", np.NaN).replace(\"MIL\", np.NaN)"
   ]
  },
  {
   "cell_type": "code",
   "execution_count": null,
   "metadata": {},
   "outputs": [],
   "source": [
    "df_subset[\"NAICS\"].value_counts()"
   ]
  },
  {
   "cell_type": "code",
   "execution_count": null,
   "metadata": {},
   "outputs": [],
   "source": [
    "puma_lodes_data"
   ]
  },
  {
   "cell_type": "code",
   "execution_count": null,
   "metadata": {},
   "outputs": [],
   "source": [
    "def isNaN(num):\n",
    "    return num != num"
   ]
  },
  {
   "cell_type": "code",
   "execution_count": null,
   "metadata": {},
   "outputs": [],
   "source": [
    "for i, person in df_subset.iterrows():\n",
    "    print(i)\n",
    "    job = person[\"NAICS\"]\n",
    "    if isNaN(job):\n",
    "        continue\n",
    "    for j, puma in enumerate(distances.columns):\n",
    "        df_subset[\"ALT\" + str(j + 1) + \"_OWNJOB\"] = puma_lodes_data.loc[puma, job]"
   ]
  },
  {
   "cell_type": "code",
   "execution_count": null,
   "metadata": {},
   "outputs": [],
   "source": [
    "for i, puma in enumerate(distances.columns):\n",
    "    for ind in [\"MED\", \"MFG\", \"RET\", \"EDU\", \"ADM\", \"FOD\", \"CON\", \"PRF\", \"TRN\", \"SRV\", \"FIN\", \"WHL\", \"AGR\", \"PUB\", \"INF\", \"ENT\", \"REL\", \"UTL\", \"EXT\", \"MNG\"]:\n",
    "        df_subset[\"ALT\" + str(i + 1) + \"_\" + ind] = puma_lodes_data.loc[puma, ind]"
   ]
  },
  {
   "cell_type": "code",
   "execution_count": null,
   "metadata": {},
   "outputs": [],
   "source": [
    "# adding time and distance data for each one\n",
    "for migpuma in distances.index:\n",
    "    for j, puma in enumerate(distances.columns):\n",
    "        num = j + 1\n",
    "        key = \"ALT\" + str(num) + \"_\"\n",
    "        dist = distance_matrix.loc[migpuma, puma]\n",
    "        time = time_matrix.loc[migpuma, puma]\n",
    "        df_subset.loc[df_subset[\"ORIGIN\"] == migpuma, key + \"TIME\"] = time_matrix.loc[migpuma, puma]\n",
    "        df_subset.loc[df_subset[\"ORIGIN\"] == migpuma, key + \"DIST\"] = distance_matrix.loc[migpuma, puma]\n",
    "        if dist == 0:\n",
    "            df_subset.loc[df_subset[\"ORIGIN\"] == migpuma, key + \"INTERNAL_MOVE\"] = 1"
   ]
  },
  {
   "cell_type": "code",
   "execution_count": null,
   "metadata": {},
   "outputs": [],
   "source": [
    "for column in df_subset.columns:\n",
    "    print(column)"
   ]
  },
  {
   "cell_type": "code",
   "execution_count": null,
   "metadata": {},
   "outputs": [],
   "source": [
    "migpuma_acs_data = pd.read_csv(\"data/ACS_MIGPUMA_2018.csv\").drop(\"Geo_FIPS\", axis=1)\n",
    "migpuma_lodes_data = pd.read_csv(\"data/wac_migpuma.csv\")\n",
    "\n",
    "migpuma_acs_data = migpuma_acs_data.rename({\"Total Population\": \"TOT_POP\", \"Population Density (Per Sq. Mile)\": \"DENS\", \"Total Population Under 18 Years\": \"POP_UND_18\", \"Total Population 18 to 34 Years\": \"POP_18_34\", \"Total Population 35 to 64 Years\": \"POP_35_64\", \"Total Population 65 and Over\": \"POP_OVER_65\", \"Median Age\": \"MED_AGE\", \"Population 25 Years and Over Less than High School\": \"EDU_NOHIGH\", \"Population 25 Years and Over Some College\": \"EDU_SOMECOL\", \"Population 25 Years and Over Bachelors Degree\": \"EDU_BACH\", \"Population 25 Years and Over Masters Degree\": \"EDU_MASTERS\", \"Population 25 Years and Over Professional School Degree\": \"EDU_PROF\", \"Population 25 Years and Over Doctorate Degree\": \"EDU_PHD\", \"Population 3 Years and Over Enrolled in School Public School College\": \"ENRL_PUB_COLL\", \"Population 3 Years and Over Enrolled in School Private School College\": \"ENRL_PRI_COLL\", \"Gini Index\": \"GINI\", \"SE_A14022_001\": \"AGG_INC\", \"Median Household Income (In 2019 Inflation Adjusted Dollars)\": \"HH_MED_INC\", \"Occupied Housing Units\": \"HU_OCC\", \"Occupied Housing Units Owner Occupied\": \"HU_OCC_OWN\", \"Occupied Housing Units Renter Occupied\": \"HU_OCC_RENT\", \"Housing Units\": \"HU_TOT\", \"Housing Units Vacant\": \"HU_VAC\", \"Median Value\": \"HH_MED_VAL\", \"Median Gross Rent\": \"HH_MED_RENT\", \"Median Gross Rent as a Percentage of Household  Income\": \"HH_MED_RENT_PCT_INC\", \"Median Selected Monthly Owner Costs as a  Percentage of Household Income\": \"HH_MED_OWN_PCT_INC\", \"Total Population Foreign Born\": \"FOREIGN_BORN\", \"Population 25 Years and Over High School Graduate (Includes Equivalency)\": \"EDU_HIGH\"}, axis=1)"
   ]
  },
  {
   "cell_type": "code",
   "execution_count": null,
   "metadata": {},
   "outputs": [],
   "source": [
    "migpuma_acs_data"
   ]
  },
  {
   "cell_type": "code",
   "execution_count": null,
   "metadata": {},
   "outputs": [],
   "source": [
    "migpuma_acs_data[\"UNEMP\"] = migpuma_acs_data[\"Population 16 Years and Over in Labor Force Civilian Unemployed\"] / migpuma_acs_data[\"Population 16 Years and Over in Labor Force Civilian\"]"
   ]
  },
  {
   "cell_type": "code",
   "execution_count": null,
   "metadata": {},
   "outputs": [],
   "source": [
    "temp = migpuma_acs_data[[\"MIGPUMA\", \"TOT_POP\", \"DENS\", \"POP_UND_18\", \"POP_18_34\", \"POP_35_64\", \"POP_OVER_65\", \"MED_AGE\", \"EDU_NOHIGH\", \"EDU_SOMECOL\", \"EDU_HIGH\", \"EDU_BACH\", \"EDU_MASTERS\", \"EDU_PROF\", \"EDU_PHD\", \"ENRL_PUB_COLL\", \"ENRL_PRI_COLL\", \"GINI\", \"AGG_INC\", \"HH_MED_INC\", \"HU_OCC\", \"HU_OCC_OWN\", \"HU_OCC_RENT\", \"HU_TOT\", \"HU_VAC\", \"HH_MED_VAL\", \"HH_MED_RENT\", \"HH_MED_RENT_PCT_INC\", \"HH_MED_OWN_PCT_INC\", \"FOREIGN_BORN\", \"UNEMP\"]]\n",
    "temp.columns = temp.columns.map(lambda x: str(x) + \"_ORIG\")\n",
    "migpuma_lodes_data.columns = migpuma_lodes_data.columns.map(lambda x: str(x) + \"_ORIG\")\n",
    "df_subset = pd.merge(df_subset, temp, left_on=\"ORIGIN\", right_on=\"MIGPUMA_ORIG\", how=\"left\").merge(migpuma_lodes_data, left_on = \"ORIGIN\", right_on=\"MIGPUMA_ORIG\", how=\"left\")"
   ]
  },
  {
   "cell_type": "code",
   "execution_count": null,
   "metadata": {},
   "outputs": [],
   "source": [
    "df_subset.to_csv(\"ky_estdata_full.csv\")"
   ]
  },
  {
   "cell_type": "code",
   "execution_count": null,
   "metadata": {},
   "outputs": [],
   "source": [
    "import seaborn as sns\n",
    "import matplotlib.pyplot as plt"
   ]
  },
  {
   "cell_type": "code",
   "execution_count": null,
   "metadata": {},
   "outputs": [],
   "source": [
    "# chosen_dists = []\n",
    "# for i, mover in df_subset.iterrows():\n",
    "#     chosen_dists.append(distance_matrix.loc[mover[\"ORIGIN\"], mover[\"CHOSEN\"]])\n"
   ]
  },
  {
   "cell_type": "code",
   "execution_count": null,
   "metadata": {},
   "outputs": [],
   "source": [
    "# unchosen_dists = []\n",
    "# for i, mover in df_subset.iterrows():\n",
    "#     chosen = mover[\"CHOSEN\"]\n",
    "#     for puma in distances.columns:\n",
    "#         if not chosen == puma:\n",
    "#             unchosen_dists.append(distance_matrix.loc[mover[\"ORIGIN\"], chosen])\n",
    "        "
   ]
  },
  {
   "cell_type": "code",
   "execution_count": null,
   "metadata": {},
   "outputs": [],
   "source": [
    "puma_acs_data[\"UNEMP\"] = puma_acs_data[\"Population 16 Years and Over in Labor Force Civilian Unemployed\"] / puma_acs_data[\"Population 16 Years and Over in Labor Force Civilian\"]"
   ]
  },
  {
   "cell_type": "code",
   "execution_count": null,
   "metadata": {},
   "outputs": [],
   "source": [
    "variable = \"Median Household Income (In 2019 Inflation Adjusted Dollars)\"\n",
    "chosens = []\n",
    "unchosens = []\n",
    "\n",
    "for i, mover in df_subset.iterrows():\n",
    "    chosen = mover[\"CHOSEN\"]\n",
    "    orig = mover[\"HH_MED_INC_ORIG\"]\n",
    "    chosens.append((int(puma_acs_data.loc[chosen, variable]) - int(orig)) / int(orig))\n",
    "    for puma in distances.columns:\n",
    "        if not chosen == puma:\n",
    "            unchosens.append((int(puma_acs_data.loc[puma, variable]) - int(orig)) / int(orig))\n"
   ]
  },
  {
   "cell_type": "code",
   "execution_count": null,
   "metadata": {},
   "outputs": [],
   "source": [
    "sns.set(rc = {'figure.figsize': (25, 8)})"
   ]
  },
  {
   "cell_type": "code",
   "execution_count": null,
   "metadata": {},
   "outputs": [],
   "source": [
    "max(chosens)"
   ]
  },
  {
   "cell_type": "code",
   "execution_count": null,
   "metadata": {},
   "outputs": [],
   "source": [
    "sns.displot(chosens, rug=True)\n",
    "sns.displot(unchosens, rug=True)"
   ]
  },
  {
   "cell_type": "code",
   "execution_count": null,
   "metadata": {},
   "outputs": [],
   "source": [
    "df_subset[\"ESR\"].value_counts()"
   ]
  },
  {
   "cell_type": "code",
   "execution_count": null,
   "metadata": {},
   "outputs": [],
   "source": [
    "df_subset[\"MIL\"].value_counts()"
   ]
  },
  {
   "cell_type": "code",
   "execution_count": null,
   "metadata": {},
   "outputs": [],
   "source": [
    "puma_acs_data[\"Total Population\"].std()"
   ]
  },
  {
   "cell_type": "code",
   "execution_count": null,
   "metadata": {},
   "outputs": [],
   "source": [
    "sns.kdeplot(puma_acs_data[\"Total Population\"])"
   ]
  }
 ],
 "metadata": {
  "kernelspec": {
   "display_name": "Python 3.8.10 ('py38')",
   "language": "python",
   "name": "python3"
  },
  "language_info": {
   "codemirror_mode": {
    "name": "ipython",
    "version": 3
   },
   "file_extension": ".py",
   "mimetype": "text/x-python",
   "name": "python",
   "nbconvert_exporter": "python",
   "pygments_lexer": "ipython3",
   "version": "3.8.10"
  },
  "orig_nbformat": 4,
  "vscode": {
   "interpreter": {
    "hash": "ce23229ff7652e9836139bef20392cd72a075ed36ea5f3216f68cde190f4aecc"
   }
  }
 },
 "nbformat": 4,
 "nbformat_minor": 2
}
