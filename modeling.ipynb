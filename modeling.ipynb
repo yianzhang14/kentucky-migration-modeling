{
 "cells": [
  {
   "cell_type": "code",
   "execution_count": 182,
   "id": "e17e5e43",
   "metadata": {},
   "outputs": [],
   "source": [
    "import pandas as pd\n",
    "import numpy as np\n",
    "import biogeme.database as db\n",
    "import biogeme.biogeme as bio\n",
    "from biogeme import models\n",
    "from biogeme.expressions import Beta\n",
    "from biogeme.expressions import log\n",
    "import math"
   ]
  },
  {
   "cell_type": "code",
   "execution_count": 183,
   "id": "9b9da201",
   "metadata": {},
   "outputs": [
    {
     "data": {
      "text/html": [
       "<div>\n",
       "<style scoped>\n",
       "    .dataframe tbody tr th:only-of-type {\n",
       "        vertical-align: middle;\n",
       "    }\n",
       "\n",
       "    .dataframe tbody tr th {\n",
       "        vertical-align: top;\n",
       "    }\n",
       "\n",
       "    .dataframe thead th {\n",
       "        text-align: right;\n",
       "    }\n",
       "</style>\n",
       "<table border=\"1\" class=\"dataframe\">\n",
       "  <thead>\n",
       "    <tr style=\"text-align: right;\">\n",
       "      <th></th>\n",
       "      <th>Unnamed: 0</th>\n",
       "      <th>RT</th>\n",
       "      <th>SERIALNO</th>\n",
       "      <th>DIVISION</th>\n",
       "      <th>SPORDER</th>\n",
       "      <th>PUMA</th>\n",
       "      <th>REGION</th>\n",
       "      <th>ST</th>\n",
       "      <th>ADJINC</th>\n",
       "      <th>PWGTP</th>\n",
       "      <th>...</th>\n",
       "      <th>EDU_ORIG</th>\n",
       "      <th>MED_ORIG</th>\n",
       "      <th>ENT_ORIG</th>\n",
       "      <th>FOD_ORIG</th>\n",
       "      <th>SRV_ORIG</th>\n",
       "      <th>PUB_ORIG</th>\n",
       "      <th>JOBS_EDU_NOHS_ORIG</th>\n",
       "      <th>JOBS_EDU_HS_ORIG</th>\n",
       "      <th>JOBS_EDU_NOBACH_ORIG</th>\n",
       "      <th>JOBS_EDU_BACH_ORIG</th>\n",
       "    </tr>\n",
       "  </thead>\n",
       "  <tbody>\n",
       "    <tr>\n",
       "      <th>0</th>\n",
       "      <td>0</td>\n",
       "      <td>P</td>\n",
       "      <td>2018GQ0000237</td>\n",
       "      <td>6</td>\n",
       "      <td>1</td>\n",
       "      <td>2300</td>\n",
       "      <td>3</td>\n",
       "      <td>21</td>\n",
       "      <td>1013097</td>\n",
       "      <td>12</td>\n",
       "      <td>...</td>\n",
       "      <td>4143</td>\n",
       "      <td>5538</td>\n",
       "      <td>624</td>\n",
       "      <td>4127</td>\n",
       "      <td>932</td>\n",
       "      <td>1907</td>\n",
       "      <td>4661</td>\n",
       "      <td>13989</td>\n",
       "      <td>13899</td>\n",
       "      <td>9628</td>\n",
       "    </tr>\n",
       "    <tr>\n",
       "      <th>1</th>\n",
       "      <td>1</td>\n",
       "      <td>P</td>\n",
       "      <td>2018GQ0000289</td>\n",
       "      <td>6</td>\n",
       "      <td>1</td>\n",
       "      <td>800</td>\n",
       "      <td>3</td>\n",
       "      <td>21</td>\n",
       "      <td>1013097</td>\n",
       "      <td>69</td>\n",
       "      <td>...</td>\n",
       "      <td>3259</td>\n",
       "      <td>5613</td>\n",
       "      <td>161</td>\n",
       "      <td>3103</td>\n",
       "      <td>578</td>\n",
       "      <td>1686</td>\n",
       "      <td>3315</td>\n",
       "      <td>10113</td>\n",
       "      <td>8855</td>\n",
       "      <td>5408</td>\n",
       "    </tr>\n",
       "    <tr>\n",
       "      <th>2</th>\n",
       "      <td>2</td>\n",
       "      <td>P</td>\n",
       "      <td>2018GQ0000306</td>\n",
       "      <td>6</td>\n",
       "      <td>1</td>\n",
       "      <td>2200</td>\n",
       "      <td>3</td>\n",
       "      <td>21</td>\n",
       "      <td>1013097</td>\n",
       "      <td>46</td>\n",
       "      <td>...</td>\n",
       "      <td>6917</td>\n",
       "      <td>4500</td>\n",
       "      <td>347</td>\n",
       "      <td>4366</td>\n",
       "      <td>774</td>\n",
       "      <td>1574</td>\n",
       "      <td>2982</td>\n",
       "      <td>8714</td>\n",
       "      <td>8775</td>\n",
       "      <td>7263</td>\n",
       "    </tr>\n",
       "    <tr>\n",
       "      <th>3</th>\n",
       "      <td>3</td>\n",
       "      <td>P</td>\n",
       "      <td>2018GQ0000424</td>\n",
       "      <td>6</td>\n",
       "      <td>1</td>\n",
       "      <td>2000</td>\n",
       "      <td>3</td>\n",
       "      <td>21</td>\n",
       "      <td>1013097</td>\n",
       "      <td>24</td>\n",
       "      <td>...</td>\n",
       "      <td>5180</td>\n",
       "      <td>4347</td>\n",
       "      <td>840</td>\n",
       "      <td>4443</td>\n",
       "      <td>1265</td>\n",
       "      <td>12683</td>\n",
       "      <td>4416</td>\n",
       "      <td>13305</td>\n",
       "      <td>14194</td>\n",
       "      <td>11786</td>\n",
       "    </tr>\n",
       "    <tr>\n",
       "      <th>4</th>\n",
       "      <td>4</td>\n",
       "      <td>P</td>\n",
       "      <td>2018GQ0000448</td>\n",
       "      <td>6</td>\n",
       "      <td>1</td>\n",
       "      <td>2600</td>\n",
       "      <td>3</td>\n",
       "      <td>21</td>\n",
       "      <td>1013097</td>\n",
       "      <td>5</td>\n",
       "      <td>...</td>\n",
       "      <td>5668</td>\n",
       "      <td>5529</td>\n",
       "      <td>867</td>\n",
       "      <td>6068</td>\n",
       "      <td>1521</td>\n",
       "      <td>1952</td>\n",
       "      <td>3595</td>\n",
       "      <td>11890</td>\n",
       "      <td>11642</td>\n",
       "      <td>8691</td>\n",
       "    </tr>\n",
       "  </tbody>\n",
       "</table>\n",
       "<p>5 rows × 1276 columns</p>\n",
       "</div>"
      ],
      "text/plain": [
       "   Unnamed: 0 RT       SERIALNO  DIVISION  SPORDER  PUMA  REGION  ST   ADJINC  \\\n",
       "0           0  P  2018GQ0000237         6        1  2300       3  21  1013097   \n",
       "1           1  P  2018GQ0000289         6        1   800       3  21  1013097   \n",
       "2           2  P  2018GQ0000306         6        1  2200       3  21  1013097   \n",
       "3           3  P  2018GQ0000424         6        1  2000       3  21  1013097   \n",
       "4           4  P  2018GQ0000448         6        1  2600       3  21  1013097   \n",
       "\n",
       "   PWGTP  ...  EDU_ORIG  MED_ORIG  ENT_ORIG  FOD_ORIG  SRV_ORIG  PUB_ORIG  \\\n",
       "0     12  ...      4143      5538       624      4127       932      1907   \n",
       "1     69  ...      3259      5613       161      3103       578      1686   \n",
       "2     46  ...      6917      4500       347      4366       774      1574   \n",
       "3     24  ...      5180      4347       840      4443      1265     12683   \n",
       "4      5  ...      5668      5529       867      6068      1521      1952   \n",
       "\n",
       "   JOBS_EDU_NOHS_ORIG  JOBS_EDU_HS_ORIG  JOBS_EDU_NOBACH_ORIG  \\\n",
       "0                4661             13989                 13899   \n",
       "1                3315             10113                  8855   \n",
       "2                2982              8714                  8775   \n",
       "3                4416             13305                 14194   \n",
       "4                3595             11890                 11642   \n",
       "\n",
       "   JOBS_EDU_BACH_ORIG  \n",
       "0                9628  \n",
       "1                5408  \n",
       "2                7263  \n",
       "3               11786  \n",
       "4                8691  \n",
       "\n",
       "[5 rows x 1276 columns]"
      ]
     },
     "execution_count": 183,
     "metadata": {},
     "output_type": "execute_result"
    }
   ],
   "source": [
    "# read the data, is in a wide format (every person gets one unique entry with all alternatives specified)\n",
    "df = pd.read_csv(\"data/ky_estdata_full.csv\")\n",
    "df.head()"
   ]
  },
  {
   "cell_type": "code",
   "execution_count": 184,
   "id": "2e1b1dc6",
   "metadata": {},
   "outputs": [],
   "source": [
    "# reading some more data\n",
    "puma_acs_data = pd.read_csv(\"data/ACS_2018.csv\")\n",
    "puma_lodes_data = pd.read_csv(\"data/wac_puma.csv\")\n",
    "\n",
    "puma_acs_data[\"Geo_FIPS\"] = puma_acs_data[\"Geo_FIPS\"].astype(str).str.zfill(7)\n",
    "puma_acs_data = puma_acs_data.set_index(\"Geo_FIPS\")\n",
    "\n",
    "puma_lodes_data[\"puma\"] = puma_lodes_data[\"puma\"].astype(str).str.zfill(7)\n",
    "puma_lodes_data = puma_lodes_data.set_index(\"puma\")"
   ]
  },
  {
   "cell_type": "code",
   "execution_count": 185,
   "id": "91a1fdff",
   "metadata": {},
   "outputs": [],
   "source": [
    "puma_acs_data[\"UNEMP\"] = puma_acs_data[\"Population 16 Years and Over in Labor Force Civilian Unemployed\"] / puma_acs_data[\"Population 16 Years and Over in Labor Force Civilian\"]\n",
    "puma_acs_data[\"COLLEGE\"] = puma_acs_data[\"Population 3 Years and Over Enrolled in School Private School College\"] + puma_acs_data[\"Population 3 Years and Over Enrolled in School Public School College\"]\n",
    "puma_acs_data[\"VACANCY_PCT\"] = puma_acs_data[\"Housing Units Vacant\"] / puma_acs_data[\"Housing Units\"]"
   ]
  },
  {
   "cell_type": "code",
   "execution_count": 186,
   "id": "dfbe66f0",
   "metadata": {},
   "outputs": [],
   "source": [
    "df[\"MED\"] = np.where(df[\"NAICS\"] == \"MED\", 1, 0)\n",
    "df[\"MFG\"] = np.where(df[\"NAICS\"] == \"MFG\", 1, 0)\n",
    "df[\"RET\"] = np.where(df[\"NAICS\"] == \"RET\", 1, 0)\n",
    "df[\"EDU\"] = np.where(df[\"NAICS\"] == \"EDU\", 1, 0)\n",
    "df[\"ADM\"] = np.where(df[\"NAICS\"] == \"ADM\", 1, 0)\n",
    "df[\"FOD\"] = np.where(df[\"NAICS\"] == \"FOD\", 1, 0)\n",
    "df[\"PRF\"] = np.where(df[\"NAICS\"] == \"PRF\", 1, 0)\n",
    "df[\"TRN\"] = np.where(df[\"NAICS\"] == \"TRN\", 1, 0)\n",
    "df[\"SRV\"] = np.where(df[\"NAICS\"] == \"SRV\", 1, 0)\n",
    "df[\"FIN\"] = np.where(df[\"NAICS\"] == \"FIN\", 1, 0)\n",
    "df[\"WHL\"] = np.where(df[\"NAICS\"] == \"WHL\", 1, 0)\n",
    "df[\"AGR\"] = np.where(df[\"NAICS\"] == \"AGR\", 1, 0)\n",
    "df[\"PUB\"] = np.where(df[\"NAICS\"] == \"PUB\", 1, 0)\n",
    "df[\"INF\"] = np.where(df[\"NAICS\"] == \"INF\", 1, 0)\n",
    "df[\"ENT\"] = np.where(df[\"NAICS\"] == \"ENT\", 1, 0)\n",
    "df[\"REL\"] = np.where(df[\"NAICS\"] == \"REL\", 1, 0)\n",
    "df[\"UTL\"] = np.where(df[\"NAICS\"] == \"UTL\", 1, 0)\n",
    "df[\"EXT\"] = np.where(df[\"NAICS\"] == \"EXT\", 1, 0)\n",
    "df[\"MNG\"] = np.where(df[\"NAICS\"] == \"MNG\", 1, 0)"
   ]
  },
  {
   "cell_type": "code",
   "execution_count": 187,
   "id": "ed962f8f",
   "metadata": {},
   "outputs": [
    {
     "data": {
      "text/plain": [
       "Index(['2100100', '2100200', '2101500', '2100300', '2101400', '2100600',\n",
       "       '2101100', '2100700', '2102000', '2101200', '2100900', '2101000',\n",
       "       '2102800', '2101800', '2102300', '2102700', '2100800', '2102600',\n",
       "       '2101600', '2102100', '2102500', '2102200', '2101901', '2101902',\n",
       "       '2102400', '2101704', '2101705', '2101703', '2101702', '2101701',\n",
       "       '2101706', '2100400', '2101300', '2100500'],\n",
       "      dtype='object')"
      ]
     },
     "execution_count": 187,
     "metadata": {},
     "output_type": "execute_result"
    }
   ],
   "source": [
    "# importing a list of the Kentucky PUMAs\n",
    "distances = pd.read_csv(\"data/ky_distances.csv\").set_index(\"Unnamed: 0\")\n",
    "distances.columns"
   ]
  },
  {
   "cell_type": "code",
   "execution_count": 188,
   "id": "8f92b6d5",
   "metadata": {},
   "outputs": [],
   "source": [
    "df[\"NAICS_code\"] = df[\"NAICS\"].astype(\"category\").cat.codes"
   ]
  },
  {
   "cell_type": "code",
   "execution_count": 189,
   "id": "3608e1c5",
   "metadata": {},
   "outputs": [
    {
     "data": {
      "text/html": [
       "<div>\n",
       "<style scoped>\n",
       "    .dataframe tbody tr th:only-of-type {\n",
       "        vertical-align: middle;\n",
       "    }\n",
       "\n",
       "    .dataframe tbody tr th {\n",
       "        vertical-align: top;\n",
       "    }\n",
       "\n",
       "    .dataframe thead th {\n",
       "        text-align: right;\n",
       "    }\n",
       "</style>\n",
       "<table border=\"1\" class=\"dataframe\">\n",
       "  <thead>\n",
       "    <tr style=\"text-align: right;\">\n",
       "      <th></th>\n",
       "      <th>1</th>\n",
       "    </tr>\n",
       "    <tr>\n",
       "      <th>0</th>\n",
       "      <th></th>\n",
       "    </tr>\n",
       "  </thead>\n",
       "  <tbody>\n",
       "    <tr>\n",
       "      <th>0</th>\n",
       "      <td>ADM</td>\n",
       "    </tr>\n",
       "    <tr>\n",
       "      <th>1</th>\n",
       "      <td>AGR</td>\n",
       "    </tr>\n",
       "    <tr>\n",
       "      <th>2</th>\n",
       "      <td>CON</td>\n",
       "    </tr>\n",
       "    <tr>\n",
       "      <th>3</th>\n",
       "      <td>EDU</td>\n",
       "    </tr>\n",
       "    <tr>\n",
       "      <th>4</th>\n",
       "      <td>ENT</td>\n",
       "    </tr>\n",
       "    <tr>\n",
       "      <th>5</th>\n",
       "      <td>EXT</td>\n",
       "    </tr>\n",
       "    <tr>\n",
       "      <th>6</th>\n",
       "      <td>FIN</td>\n",
       "    </tr>\n",
       "    <tr>\n",
       "      <th>7</th>\n",
       "      <td>FOD</td>\n",
       "    </tr>\n",
       "    <tr>\n",
       "      <th>8</th>\n",
       "      <td>INF</td>\n",
       "    </tr>\n",
       "    <tr>\n",
       "      <th>9</th>\n",
       "      <td>MED</td>\n",
       "    </tr>\n",
       "    <tr>\n",
       "      <th>10</th>\n",
       "      <td>MFG</td>\n",
       "    </tr>\n",
       "    <tr>\n",
       "      <th>11</th>\n",
       "      <td>MNG</td>\n",
       "    </tr>\n",
       "    <tr>\n",
       "      <th>12</th>\n",
       "      <td>PRF</td>\n",
       "    </tr>\n",
       "    <tr>\n",
       "      <th>13</th>\n",
       "      <td>PUB</td>\n",
       "    </tr>\n",
       "    <tr>\n",
       "      <th>14</th>\n",
       "      <td>REL</td>\n",
       "    </tr>\n",
       "    <tr>\n",
       "      <th>15</th>\n",
       "      <td>RET</td>\n",
       "    </tr>\n",
       "    <tr>\n",
       "      <th>16</th>\n",
       "      <td>SRV</td>\n",
       "    </tr>\n",
       "    <tr>\n",
       "      <th>17</th>\n",
       "      <td>TRN</td>\n",
       "    </tr>\n",
       "    <tr>\n",
       "      <th>18</th>\n",
       "      <td>UTL</td>\n",
       "    </tr>\n",
       "    <tr>\n",
       "      <th>19</th>\n",
       "      <td>WHL</td>\n",
       "    </tr>\n",
       "    <tr>\n",
       "      <th>-1</th>\n",
       "      <td>filler</td>\n",
       "    </tr>\n",
       "  </tbody>\n",
       "</table>\n",
       "</div>"
      ],
      "text/plain": [
       "          1\n",
       "0          \n",
       " 0      ADM\n",
       " 1      AGR\n",
       " 2      CON\n",
       " 3      EDU\n",
       " 4      ENT\n",
       " 5      EXT\n",
       " 6      FIN\n",
       " 7      FOD\n",
       " 8      INF\n",
       " 9      MED\n",
       " 10     MFG\n",
       " 11     MNG\n",
       " 12     PRF\n",
       " 13     PUB\n",
       " 14     REL\n",
       " 15     RET\n",
       " 16     SRV\n",
       " 17     TRN\n",
       " 18     UTL\n",
       " 19     WHL\n",
       "-1   filler"
      ]
     },
     "execution_count": 189,
     "metadata": {},
     "output_type": "execute_result"
    }
   ],
   "source": [
    "naics_dict = dict(enumerate(df[\"NAICS\"].astype(\"category\").cat.categories))\n",
    "naics_dict[-1] = \"filler\"\n",
    "naics_df = pd.DataFrame(list(naics_dict.items())).set_index(0)\n",
    "naics_df"
   ]
  },
  {
   "cell_type": "code",
   "execution_count": 190,
   "id": "f54ec5cd",
   "metadata": {},
   "outputs": [
    {
     "data": {
      "text/plain": [
       "0        2100100\n",
       "1        2100100\n",
       "2        2100100\n",
       "3        2100100\n",
       "4        2100100\n",
       "          ...   \n",
       "35068    2100100\n",
       "35069    2100100\n",
       "35070    2100100\n",
       "35071    2100100\n",
       "35072    2100100\n",
       "Name: ALT1_PUMA, Length: 35073, dtype: int64"
      ]
     },
     "execution_count": 190,
     "metadata": {},
     "output_type": "execute_result"
    }
   ],
   "source": [
    "df[\"ALT1_PUMA\"]"
   ]
  },
  {
   "cell_type": "code",
   "execution_count": 191,
   "id": "1b788d6c",
   "metadata": {},
   "outputs": [],
   "source": [
    "# clean up the database (Biogeme Database can only have numerical values)\n",
    "df = df.select_dtypes(['number'])\n",
    "df = df.fillna(0)"
   ]
  },
  {
   "cell_type": "code",
   "execution_count": 192,
   "id": "6588d0a3",
   "metadata": {},
   "outputs": [],
   "source": [
    "# defining the chosen alterantive for each person explicitly (0 to 35, corresponding to staying and moving to one of the many PUMAs)\n",
    "df['CHOSEN_PUMA'] = df['CHOSEN']\n",
    "df['CHOSEN'] = 0\n",
    "for i in range(1, 35): \n",
    "    var = 'ALT' + str(i) + '_PUMA'\n",
    "    df['CHOSEN'] = np.where(df[var]==df['CHOSEN_PUMA'], i, df['CHOSEN'])\n",
    "df[\"CHOSEN\"] = np.where(df[\"STAY\"] == 1, 0, df[\"CHOSEN\"])"
   ]
  },
  {
   "cell_type": "code",
   "execution_count": 193,
   "id": "7814c2a6",
   "metadata": {},
   "outputs": [
    {
     "data": {
      "text/plain": [
       "0     31080\n",
       "23      224\n",
       "24      188\n",
       "32      162\n",
       "29      160\n",
       "34      155\n",
       "1       155\n",
       "30      149\n",
       "15      146\n",
       "16      145\n",
       "25      141\n",
       "18      140\n",
       "22      137\n",
       "28      129\n",
       "33      128\n",
       "14      123\n",
       "20      110\n",
       "2       109\n",
       "9       108\n",
       "11      107\n",
       "26       98\n",
       "17       96\n",
       "10       96\n",
       "31       95\n",
       "5        88\n",
       "7        88\n",
       "27       88\n",
       "4        87\n",
       "6        87\n",
       "3        84\n",
       "13       83\n",
       "19       80\n",
       "12       75\n",
       "8        66\n",
       "21       66\n",
       "Name: CHOSEN, dtype: int64"
      ]
     },
     "execution_count": 193,
     "metadata": {},
     "output_type": "execute_result"
    }
   ],
   "source": [
    "df[\"CHOSEN\"].value_counts()"
   ]
  },
  {
   "cell_type": "code",
   "execution_count": 194,
   "id": "cd6dfdbe",
   "metadata": {},
   "outputs": [
    {
     "data": {
      "text/plain": [
       "0        1\n",
       "1        0\n",
       "2        1\n",
       "3        0\n",
       "4        0\n",
       "        ..\n",
       "35068    0\n",
       "35069    0\n",
       "35070    0\n",
       "35071    0\n",
       "35072    0\n",
       "Name: IN_COLLEGE, Length: 35073, dtype: int32"
      ]
     },
     "execution_count": 194,
     "metadata": {},
     "output_type": "execute_result"
    }
   ],
   "source": [
    "df[\"IN_COLLEGE\"] = np.where((df[\"SCHG\"] == 15) | (df[\"SCHG\"] == 16), 1, 0)\n",
    "df[\"IN_COLLEGE\"]"
   ]
  },
  {
   "cell_type": "code",
   "execution_count": 195,
   "id": "d2491423",
   "metadata": {},
   "outputs": [],
   "source": [
    "df[\"AGE_18_34\"] = np.where(df[\"AGEP\"] <= 34, 1, 0)\n",
    "df[\"AGE_35_64\"] = np.where((df[\"AGEP\"] >= 35) & (df[\"AGEP\"] <= 64), 1, 0)\n",
    "df[\"AGE_OVER_65\"] = np.where((df[\"AGEP\"] >= 65), 1, 0)\n",
    "df[\"FOREIGN\"] = np.where(df[\"NATIVITY\"] == 2, 1, 0)"
   ]
  },
  {
   "cell_type": "code",
   "execution_count": 196,
   "id": "0c107e4a",
   "metadata": {},
   "outputs": [],
   "source": [
    "df[\"AGE_18_22\"] = np.where(df[\"AGEP\"] <= 22, 1, 0)\n",
    "df[\"AGE_23_29\"] = np.where((df[\"AGEP\"] >= 23) & (df[\"AGEP\"] <= 29), 1, 0)\n",
    "df[\"AGE_30_39\"] = np.where((df[\"AGEP\"] >= 30) & (df[\"AGEP\"] <= 39), 1, 0)\n",
    "df[\"AGE_40_49\"] = np.where((df[\"AGEP\"] >= 40) & (df[\"AGEP\"] <= 49), 1, 0)\n",
    "df[\"AGE_50_64\"] = np.where((df[\"AGEP\"] >= 50) & (df[\"AGEP\"] <= 64), 1, 0)"
   ]
  },
  {
   "cell_type": "code",
   "execution_count": 197,
   "id": "ba15bdf3",
   "metadata": {},
   "outputs": [],
   "source": [
    "df[\"EDU_LESS_HIGH\"] = np.where(df[\"SCHL\"] <= 15, 1, 0)\n",
    "df[\"EDU_HIGHONLY\"] = np.where((df[\"SCHL\"] >= 16) & (df[\"SCHL\"] <= 17), 1, 0)\n",
    "df[\"EDU_SOMECOLLEGE\"] = np.where((df[\"SCHL\"] >= 18) & (df[\"SCHL\"] <= 20), 1, 0)\n",
    "df[\"EDU_COLLEGE\"] = np.where(df[\"SCHL\"] >= 21, 1, 0)\n",
    "df[\"EDU_NOCOLLEGE\"] = np.where(df[\"EDU_COLLEGE\"] == 0, 1, 0)"
   ]
  },
  {
   "cell_type": "code",
   "execution_count": 198,
   "id": "2b82bb6c",
   "metadata": {},
   "outputs": [],
   "source": [
    "df[\"WOMAN_CHILD\"] = np.where((df[\"PAOC\"] >= 1) & (df[\"PAOC\"] <= 3), 1, 0)\n",
    "df[\"UNEMPLOYED\"] = np.where(df[\"ESR\"] == 3, 1, 0)"
   ]
  },
  {
   "cell_type": "code",
   "execution_count": 199,
   "id": "2aac0070",
   "metadata": {},
   "outputs": [],
   "source": [
    "df[\"MALE\"] = np.where(df[\"SEX\"] == 1, 1, 0)\n",
    "df[\"FEMALE\"] = np.where(df[\"SEX\"] == 0, 1, 0)"
   ]
  },
  {
   "cell_type": "code",
   "execution_count": 200,
   "id": "655bf3c7",
   "metadata": {},
   "outputs": [],
   "source": [
    "df[\"MARRIED\"] = np.where(df[\"MAR\"] == 1, 1, 0)"
   ]
  },
  {
   "cell_type": "code",
   "execution_count": 201,
   "id": "63f61613",
   "metadata": {},
   "outputs": [],
   "source": [
    "df[\"filler\"] = 0"
   ]
  },
  {
   "cell_type": "code",
   "execution_count": 202,
   "id": "17534fa7",
   "metadata": {},
   "outputs": [],
   "source": [
    "df[\"child_old\"] = np.where(df[\"child\"] == df[\"REC_CHILD\"], 0, df[\"child\"])"
   ]
  },
  {
   "cell_type": "code",
   "execution_count": 203,
   "id": "6d479d4e",
   "metadata": {},
   "outputs": [
    {
     "data": {
      "text/plain": [
       "0    25368\n",
       "1     9705\n",
       "Name: child_old, dtype: int64"
      ]
     },
     "execution_count": 203,
     "metadata": {},
     "output_type": "execute_result"
    }
   ],
   "source": [
    "df[\"child_old\"].value_counts()"
   ]
  },
  {
   "cell_type": "code",
   "execution_count": 204,
   "id": "8953e1d6",
   "metadata": {},
   "outputs": [],
   "source": [
    "df[\"REC_NO_MAR\"] = np.where((df[\"MARHD\"] == 1) | (df[\"MARHW\"] == 1), 1, 0)"
   ]
  },
  {
   "cell_type": "code",
   "execution_count": 205,
   "id": "6f2f6431",
   "metadata": {},
   "outputs": [
    {
     "data": {
      "text/plain": [
       "0    34454\n",
       "1      619\n",
       "Name: REC_NO_MAR, dtype: int64"
      ]
     },
     "execution_count": 205,
     "metadata": {},
     "output_type": "execute_result"
    }
   ],
   "source": [
    "df[\"REC_NO_MAR\"].value_counts()"
   ]
  },
  {
   "cell_type": "code",
   "execution_count": 206,
   "id": "52123730",
   "metadata": {},
   "outputs": [
    {
     "data": {
      "text/plain": [
       "0.0    33995\n",
       "1.0     1078\n",
       "Name: REC_CHILD, dtype: int64"
      ]
     },
     "execution_count": 206,
     "metadata": {},
     "output_type": "execute_result"
    }
   ],
   "source": [
    "df[\"REC_CHILD\"].value_counts()"
   ]
  },
  {
   "cell_type": "code",
   "execution_count": 207,
   "id": "8454657f",
   "metadata": {},
   "outputs": [
    {
     "data": {
      "text/plain": [
       "0.0    34457\n",
       "1.0      616\n",
       "Name: MARHM_new, dtype: int64"
      ]
     },
     "execution_count": 207,
     "metadata": {},
     "output_type": "execute_result"
    }
   ],
   "source": [
    "df[\"MARHM_new\"] = np.where(df[\"MARHM\"] == 2, 0, df[\"MARHM\"])\n",
    "df[\"MARHM_new\"].value_counts()"
   ]
  },
  {
   "cell_type": "code",
   "execution_count": 208,
   "id": "ea7b4e00",
   "metadata": {},
   "outputs": [
    {
     "data": {
      "text/plain": [
       "1    19271\n",
       "0    15802\n",
       "Name: MARRIED, dtype: int64"
      ]
     },
     "execution_count": 208,
     "metadata": {},
     "output_type": "execute_result"
    }
   ],
   "source": [
    "df[\"MARRIED\"].value_counts()"
   ]
  },
  {
   "cell_type": "code",
   "execution_count": 209,
   "id": "d998bcac",
   "metadata": {},
   "outputs": [
    {
     "data": {
      "text/plain": [
       "1    18676\n",
       "0    16397\n",
       "Name: married_old, dtype: int64"
      ]
     },
     "execution_count": 209,
     "metadata": {},
     "output_type": "execute_result"
    }
   ],
   "source": [
    "df[\"married_old\"] = np.where((df[\"MARHM\"] == df[\"MARRIED\"]), 0, df[\"MARRIED\"])\n",
    "df[\"married_old\"].value_counts()"
   ]
  },
  {
   "cell_type": "code",
   "execution_count": 210,
   "id": "28b592af",
   "metadata": {},
   "outputs": [],
   "source": [
    "df[\"DENS_ORIG_NORM\"] = (df[\"DENS_ORIG\"] - np.mean(df[\"DENS_ORIG\"]))/(np.std(df[\"DENS_ORIG\"]))\n",
    "df[\"PINCP_NORM\"] = (df[\"PINCP\"] - np.mean(df[\"PINCP\"])) / np.std(df[\"PINCP\"])\n",
    "df[\"HH_MED_INC_ORIG_NORM\"] = (df[\"HH_MED_INC_ORIG\"] - np.mean(df[\"HH_MED_INC_ORIG\"])) / np.std(df[\"HH_MED_INC_ORIG\"])\n",
    "df[\"HH_MED_RENT_ORIG_NORM\"] = (df[\"HH_MED_RENT_ORIG\"] - np.mean(df[\"HH_MED_RENT_ORIG\"])) / np.std(df[\"HH_MED_RENT_ORIG\"])\n",
    "df[\"UNEMP_ORIG_NORM\"] = (df[\"UNEMP_ORIG\"] - np.mean(df[\"UNEMP_ORIG\"])) / np.std(df[\"UNEMP_ORIG\"])"
   ]
  },
  {
   "cell_type": "code",
   "execution_count": 211,
   "id": "2a78b061",
   "metadata": {},
   "outputs": [],
   "source": [
    "puma_acs_data[\"HH_MED_INC_NORM\"] = (puma_acs_data[\"Median Household Income (In 2019 Inflation Adjusted Dollars)\"] - np.mean(puma_acs_data[\"Median Household Income (In 2019 Inflation Adjusted Dollars)\"])) / np.std(puma_acs_data[\"Median Household Income (In 2019 Inflation Adjusted Dollars)\"])\n",
    "puma_acs_data[\"DENS_NORM\"] = (puma_acs_data[\"Population Density (Per Sq. Mile)\"] - np.mean(puma_acs_data[\"Population Density (Per Sq. Mile)\"])) / np.std(puma_acs_data[\"Population Density (Per Sq. Mile)\"])\n",
    "puma_acs_data[\"HURENT_NORM\"] = (puma_acs_data[\"Median Gross Rent\"] - np.mean(puma_acs_data[\"Median Gross Rent\"])) / np.std(puma_acs_data[\"Median Gross Rent\"])\n",
    "puma_acs_data[\"COLLEGE_NORM\"] = (puma_acs_data[\"COLLEGE\"] - np.mean(puma_acs_data[\"COLLEGE\"])) / np.std(puma_acs_data[\"COLLEGE\"])\n",
    "puma_acs_data[\"VACANCY_NORM\"] = (puma_acs_data[\"VACANCY_PCT\"] - np.mean(puma_acs_data[\"VACANCY_PCT\"])) / np.std(puma_acs_data[\"VACANCY_PCT\"])\n",
    "puma_acs_data[\"FOREIGN_NORM\"] = (puma_acs_data[\"Total Population Foreign Born\"] - np.mean(puma_acs_data[\"Total Population Foreign Born\"])) / np.std(puma_acs_data[\"Total Population Foreign Born\"])\n"
   ]
  },
  {
   "cell_type": "code",
   "execution_count": 212,
   "id": "09839d17",
   "metadata": {},
   "outputs": [],
   "source": [
    "# making the Biogeme Database that is used for the model estimation\n",
    "database = db.Database('ky_data', df)"
   ]
  },
  {
   "cell_type": "code",
   "execution_count": 213,
   "id": "60d6e344",
   "metadata": {},
   "outputs": [],
   "source": [
    "# The following statement allows you to use the names of the\n",
    "# variable as Python variable. (in the utility functions)\n",
    "globals().update(database.variables)"
   ]
  },
  {
   "cell_type": "code",
   "execution_count": 214,
   "id": "504b5c89",
   "metadata": {},
   "outputs": [],
   "source": [
    "# Destination Choice Parameters to be estimated\n",
    "# Beta(name of the factor, initial value of the coefficient, lower bound, upper bound, whether or not the coefficinet should be fixed to initial value value)\n",
    "c_destchoice_emp=Beta('c_destchoice_emp', 0, None, None, 0)\n",
    "c_destchoice_dist=Beta('c_destchoice_dist', -0.000005, None, None, 0)\n",
    "c_destchoice_logdist=Beta('c_destchoice_logdist', -0.139344, None, None, 0)\n",
    "c_destchoice_time=Beta('c_destchoice_time', 0, None, None, 0)\n",
    "c_destchoice_unemp = Beta(\"c_destchoice_unemp\", 0, None, None, 0)\n",
    "c_destchoice_hhinc = Beta(\"c_destchoice_hhinc\", 0.000014, None, None, 0)\n",
    "c_destchoice_internal = Beta(\"c_destchoice_internal\", 0, None, None, 0)\n",
    "c_destchoice_urban = Beta(\"c_destchoice_urban\", -0.008602, None, None, 0)\n",
    "c_destchoice_huprice = Beta(\"c_destchoice_huprice\", 0, None, None, 0)\n",
    "c_destchoice_hurent = Beta(\"c_destchoice_hurent\", -0.001804, None, None, 0)\n",
    "c_destchoice_vacancy = Beta(\"c_destchoice_vacancy\", 0.560615, None, None, 0)\n",
    "c_destchoice_college = Beta(\"c_destchoice_college\", 0.000081, None, None, 0)\n",
    "c_destchoice_age_18_34 = Beta(\"c_destchoice_age_18_34\", 2.779809, None, None, 0)\n",
    "c_destchoice_age_35_64 = Beta(\"c_destchoice_age_35_64\", 0.926137, None, None, 0)\n",
    "c_destchoice_age_over_65 = Beta(\"c_destchoice_age_over_65\", 0.028123, None, None, 0)\n",
    "c_destchoice_foreign = Beta(\"c_destchoice_foreign\", 4.160805, None, None, 0)\n",
    "c_destchoice_unemp = Beta(\"c_destchoice_unemp\", 0, None, None, 0)\n",
    "c_destchoice_pctbach = Beta(\"c_destchoice_pctbach\", 3.042734, None, None, 0)\n",
    "c_destchoice_pctnobach = Beta(\"c_destchoice_pctnobach\", 2.565847, None, None, 0)\n",
    "c_destchoice_pctownind = Beta(\"c_destchoice_pctownind\", 0, None, None, 0)\n",
    "c_destchoice_entscore = Beta(\"c_destchoice_entscore\", 0.051888, None, None, 0)"
   ]
  },
  {
   "cell_type": "code",
   "execution_count": 215,
   "id": "24e20acf",
   "metadata": {},
   "outputs": [],
   "source": [
    "c_move = Beta(\"c_move\", -7.985678, None, None, 0)"
   ]
  },
  {
   "cell_type": "code",
   "execution_count": 216,
   "id": "d3c04f94",
   "metadata": {},
   "outputs": [],
   "source": [
    "# Staying Choice Parameters to be Estimated\n",
    "c_stay_married = Beta(\"c_stay_married\", 0.662462, None, None, 0)\n",
    "c_stay_income = Beta(\"c_stay_income\", 0.000002, None, None, 0)\n",
    "c_stay_origin_unemp_rate = Beta(\"c_stay_origin_unemp\", -2.134128, None, None, 0)\n",
    "c_stay_age_18_22 = Beta(\"c_stay_age_18_22\", -0.532322, None, None, 0)\n",
    "c_stay_age_23_29 = Beta(\"c_stay_age_23_29\", -0.733181, None, None, 0)\n",
    "c_stay_age_30_39 = Beta(\"c_stay_age_30_39\", -0.385103, None, None, 0)\n",
    "c_stay_age_50_64 = Beta(\"c_stay_age_50_64\", 0.302110, None, None, 0)\n",
    "c_stay_age_65 = Beta(\"c_stay_age_65\", 0.381940, None, None, 0)\n",
    "c_stay_edu_nohigh = Beta(\"c_stay_edu_nohigh\", -0.163364, None, None, 0)\n",
    "c_stay_edu_somecollege = Beta(\"c_stay_edu_somecollege\", -0.042263, None, None, 0)\n",
    "c_stay_edu_college = Beta(\"c_stay_edu_college\", -0.802324, None, None, 0)\n",
    "c_stay_child = Beta(\"c_stay_child\", -0.394293, None, None, 0)\n",
    "c_stay_unemployed = Beta(\"c_stay_unemployed\", 0, None, None, 0)\n",
    "c_stay = Beta(\"c_stay\", 7.985678, None, None, 0)\n",
    "c_stay_hhinc_orig = Beta(\"c_stay_hhinc_orig\", 0.000014, None, None, 0)\n",
    "c_stay_foreign = Beta(\"c_stay_foreign\", 0.144379, None, None, 0)\n",
    "c_stay_rent = Beta(\"c_stay_rent\", 0, None, None, 0)\n",
    "c_stay_hurent = Beta(\"c_stay_hurent\", -0.001525, None, None, 0)\n",
    "c_stay_dens = Beta(\"c_stay_dens\", 0.000402, None, None, 0)\n",
    "c_stay_college = Beta(\"c_stay_college\", 0.650010, None, None, 0)"
   ]
  },
  {
   "cell_type": "code",
   "execution_count": 217,
   "id": "a0b3a14e",
   "metadata": {},
   "outputs": [],
   "source": [
    "c_stay_rec_child = Beta(\"c_stay_rec_child\", -0.28057, None, None, 0)\n",
    "c_stay_rec_mar = Beta(\"c_stay_rec_mar\", -0.130613, None, None, 0)\n",
    "c_stay_rec_nomar = Beta(\"c_stay_rec_nomar\", -0.725205, None, None, 0)"
   ]
  },
  {
   "cell_type": "code",
   "execution_count": 218,
   "id": "b3c55c12",
   "metadata": {},
   "outputs": [],
   "source": [
    "# defining the staying utility function\n",
    "V0 = c_stay + c_stay_married * married_old + c_stay_income * PINCP + c_stay_age_18_22 * AGE_18_22 + c_stay_age_23_29 * AGE_23_29 + c_stay_age_30_39 * AGE_30_39 + c_stay_age_50_64 * AGE_50_64 + c_stay_age_65 * AGE_OVER_65 + c_stay_edu_nohigh * EDU_LESS_HIGH + c_stay_edu_somecollege * EDU_SOMECOLLEGE + c_stay_edu_college * EDU_COLLEGE + c_stay_child * child_old + c_stay_hhinc_orig * HH_MED_INC_ORIG + c_stay_foreign * FOREIGN + c_stay_hurent * HH_MED_RENT_ORIG + c_stay_dens * DENS_ORIG + c_stay_origin_unemp_rate * UNEMP_ORIG + c_stay_college * IN_COLLEGE + c_stay_rec_child * REC_CHILD + c_stay_rec_mar * MARHM + c_stay_rec_nomar * REC_NO_MAR\n",
    "\n",
    "# c_stay_married * MARRIED + c_stay_income * PINCP + c_stay_age_18_22 * AGE_18_22 + c_stay_age_23_29 * AGE_23_29 + c_stay_age_30_39 * AGE_30_39 + c_stay_age_50_64 * AGE_50_64 + c_stay_age_65 * AGE_OVER_65 + c_stay_edu_nohigh * EDU_LESS_HIGH + c_stay_edu_somecollege * EDU_SOMECOLLEGE + c_stay_edu_college * EDU_COLLEGE + c_stay_child * child + c_stay + c_stay_hhinc_orig * HH_MED_INC_ORIG + c_stay_foreign * FOREIGN + c_stay_hurent * HH_MED_RENT_ORIG + c_stay_dens * DENS_ORIG + c_stay_origin_unemp_rate * UNEMP_ORIG + c_stay_college * IN_COLLEGE"
   ]
  },
  {
   "cell_type": "code",
   "execution_count": 219,
   "id": "2c78836a",
   "metadata": {},
   "outputs": [],
   "source": [
    "# constants only model (all utilities equal to unique constant)\n",
    "\n",
    "# for i in range(35):\n",
    "#     key = \"c_\" + str(i)\n",
    "#     print(\"{0} = Beta('{0}', 0, None, None, 0)\".format(key))\n",
    "#     print (\"V{0} = {1}\".format(i, key))"
   ]
  },
  {
   "cell_type": "code",
   "execution_count": 220,
   "id": "34454d87",
   "metadata": {},
   "outputs": [
    {
     "name": "stdout",
     "output_type": "stream",
     "text": [
      "(((((((((((((((c_move(-7.985678) + log(ALT1_POP)) + (c_destchoice_dist(-5e-06) * ALT1_DIST)) + (c_destchoice_logdist(-0.139344) * log((ALT1_DIST + `1`)))) + (c_destchoice_hhinc(1.4e-05) * `45561`)) + ((c_destchoice_urban(-0.008602) / DENS_ORIG) * (`236.724896654487` - DENS_ORIG))) + (c_destchoice_hurent(-0.001804) * `700`)) + ((c_destchoice_college(8.1e-05) * IN_COLLEGE) * `12344`)) + (c_destchoice_vacancy(0.560615) * `0.1783103294515363`)) + (((c_destchoice_foreign(4.160805) * FOREIGN) * `2733`) / ALT1_POP)) + (((c_destchoice_age_18_34(2.779809) * AGE_18_34) * `41282`) / ALT1_POP)) + (((c_destchoice_age_35_64(0.926137) * AGE_35_64) * `74145`) / ALT1_POP)) + (((c_destchoice_age_over_65(0.028123) * AGE_OVER_65) * `39562`) / ALT1_POP)) + (((c_destchoice_pctnobach(2.565847) * EDU_NOCOLLEGE) * `48119`) / ALT1_EMP)) + (((c_destchoice_pctbach(3.042734) * EDU_COLLEGE) * `13511`) / ALT1_EMP)) + (((c_destchoice_entscore(0.051888) * ALT1_ENT) / ALT1_EMP) / AGEP))\n"
     ]
    }
   ],
   "source": [
    "# defining the utility functions for each of the moving PUMA alternatives\n",
    "# defined using the exec to parse a string to save space\n",
    "# can also use a loop to print out the statements and then copy/paste them to run\n",
    "# can also just write each one manually\n",
    "for i, puma in enumerate(distances.columns):\n",
    "    num = i + 1\n",
    "    initialization = \"V{0} = c_move + log(ALT{0}_POP) + c_destchoice_dist * ALT{0}_DIST + c_destchoice_logdist * log(ALT{0}_DIST + 1) + c_destchoice_hhinc * int(puma_acs_data.loc['{1}', 'Median Household Income (In 2019 Inflation Adjusted Dollars)']) + c_destchoice_urban / DENS_ORIG * (puma_acs_data.loc['{1}', 'Population Density (Per Sq. Mile)'] - DENS_ORIG) + c_destchoice_hurent * int(puma_acs_data.loc['{1}', 'Median Gross Rent']) + c_destchoice_college * IN_COLLEGE * int(puma_acs_data.loc['{1}', 'COLLEGE']) + c_destchoice_vacancy * float(puma_acs_data.loc['{1}', 'VACANCY_PCT']) + c_destchoice_foreign * FOREIGN * int(puma_acs_data.loc['{1}', 'Total Population Foreign Born']) / ALT{0}_POP + c_destchoice_age_18_34 * AGE_18_34 * int(puma_acs_data.loc['{1}', 'Total Population 18 to 34 Years']) / ALT{0}_POP + c_destchoice_age_35_64 *AGE_35_64 * int(puma_acs_data.loc['{1}', 'Total Population 35 to 64 Years']) / ALT{0}_POP + c_destchoice_age_over_65 * AGE_OVER_65 * int(puma_acs_data.loc['{1}', 'Total Population 65 and Over']) / ALT{0}_POP + c_destchoice_pctnobach * EDU_NOCOLLEGE * int(puma_lodes_data.loc['{1}', ['JOBS_EDU_HS', 'JOBS_EDU_NOBACH', 'JOBS_EDU_NOHS']].sum()) / ALT{0}_EMP  + c_destchoice_pctbach * EDU_COLLEGE * int(puma_lodes_data.loc['{1}', 'JOBS_EDU_BACH']) / ALT{0}_EMP + c_destchoice_entscore * ALT{0}_ENT / ALT{0}_EMP / AGEP\".format(num, puma)\n",
    "    exec(initialization)\n",
    "print(V1)\n",
    "\n",
    "# full model specification (takes a bit longer to run):\n",
    "# V{0} = log(ALT{0}_POP) + c_destchoice_dist * ALT{0}_DIST + c_destchoice_logdist * log(ALT{0}_DIST + 1) + c_destchoice_hhinc * int(puma_acs_data.loc['{1}', 'Median Household Income (In 2019 Inflation Adjusted Dollars)']) + c_destchoice_urban / DENS_ORIG * (puma_acs_data.loc['{1}', 'Population Density (Per Sq. Mile)'] - DENS_ORIG) + c_destchoice_hurent * int(puma_acs_data.loc['{1}', 'Median Gross Rent']) + c_destchoice_college * IN_COLLEGE * int(puma_acs_data.loc['{1}', 'COLLEGE']) + c_destchoice_vacancy * float(puma_acs_data.loc['{1}', 'VACANCY_PCT']) + c_destchoice_foreign * FOREIGN * int(puma_acs_data.loc['{1}', 'Total Population Foreign Born']) / ALT{0}_POP + c_destchoice_age_18_34 * AGE_18_34 * int(puma_acs_data.loc['{1}', 'Total Population 18 to 34 Years']) / ALT{0}_POP + c_destchoice_age_35_64 *AGE_35_64 * int(puma_acs_data.loc['{1}', 'Total Population 35 to 64 Years']) / ALT{0}_POP + c_destchoice_age_over_65 * AGE_OVER_65 * int(puma_acs_data.loc['{1}', 'Total Population 65 and Over']) / ALT{0}_POP + c_destchoice_pctnobach * EDU_NOCOLLEGE * int(puma_lodes_data.loc['{1}', ['JOBS_EDU_HS', 'JOBS_EDU_NOBACH', 'JOBS_EDU_NOHS']].sum()) / ALT{0}_EMP  + c_destchoice_pctbach * EDU_COLLEGE * int(puma_lodes_data.loc['{1}', 'JOBS_EDU_BACH']) / ALT{0}_EMP + c_destchoice_unemp * float(puma_acs_data.loc['{1}', 'UNEMP']) + c_destchoice_entscore * ALT{0}_ENT / ALT{0}_EMP / AGEP\n",
    "\n",
    "# for the fields already in the Biogeme db.Database, can explicitly refer to them; also used a few references to other databases using .loc and fields in the Biogeme database"
   ]
  },
  {
   "cell_type": "code",
   "execution_count": 221,
   "id": "00bc7dcf",
   "metadata": {},
   "outputs": [],
   "source": [
    "# occupation-based coefficients\n",
    "\n",
    "# c_adm = Beta(\"c_adm\", 0, None, None, 0)\n",
    "# c_agr = Beta(\"c_agr\", 0, None, None, 0)\n",
    "# c_con = Beta(\"c_con\", 0, None, None, 0)\n",
    "# c_edu = Beta(\"c_edu\", 0, None, None, 0)\n",
    "# c_ent = Beta(\"c_ent\", 0, None, None, 0)\n",
    "# c_ext = Beta(\"c_ext\", 0, None, None, 0)\n",
    "# c_fin = Beta(\"c_fin\", 0, None, None, 0)\n",
    "# c_fod = Beta(\"c_fod\", 0, None, None, 0)\n",
    "# c_inf = Beta(\"c_inf\", 0, None, None, 0)\n",
    "# c_med = Beta(\"c_med\", 0, None, None, 0)\n",
    "# c_mfg = Beta(\"c_mfg\", 0, None, None, 0)\n",
    "# c_mng = Beta(\"c_mng\", 0, None, None, 0)\n",
    "# c_prf = Beta(\"c_prf\", 0, None, None, 0)\n",
    "# c_pub = Beta(\"c_pub\", 0, None, None, 0)\n",
    "# c_rel = Beta(\"c_rel\", 0, None, None, 0)\n",
    "# c_ret = Beta(\"c_ret\", 0, None, None, 0)\n",
    "# c_srv = Beta(\"c_srv\", 0, None, None, 0)\n",
    "# c_trn = Beta(\"c_trn\", 0, None, None, 0)\n",
    "# c_utl = Beta(\"c_utl\", 0, None, None, 0)\n",
    "# c_whl = Beta(\"c_whl\", 0, None, None, 0)"
   ]
  },
  {
   "cell_type": "code",
   "execution_count": 39,
   "id": "efe6909b",
   "metadata": {},
   "outputs": [
    {
     "ename": "KeyboardInterrupt",
     "evalue": "",
     "output_type": "error",
     "traceback": [
      "\u001b[1;31m---------------------------------------------------------------------------\u001b[0m",
      "\u001b[1;31mKeyboardInterrupt\u001b[0m                         Traceback (most recent call last)",
      "\u001b[1;32md:\\migration\\migration\\model\\ky_model\\modeling.ipynb Cell 30'\u001b[0m in \u001b[0;36m<cell line: 17>\u001b[1;34m()\u001b[0m\n\u001b[0;32m     <a href='vscode-notebook-cell:/d%3A/migration/migration/model/ky_model/modeling.ipynb#ch0000028?line=13'>14</a>\u001b[0m logprob \u001b[39m=\u001b[39m models\u001b[39m.\u001b[39mloglogit(V, av, CHOSEN)\n\u001b[0;32m     <a href='vscode-notebook-cell:/d%3A/migration/migration/model/ky_model/modeling.ipynb#ch0000028?line=15'>16</a>\u001b[0m \u001b[39m# Create the Biogeme object\u001b[39;00m\n\u001b[1;32m---> <a href='vscode-notebook-cell:/d%3A/migration/migration/model/ky_model/modeling.ipynb#ch0000028?line=16'>17</a>\u001b[0m biogeme \u001b[39m=\u001b[39m bio\u001b[39m.\u001b[39;49mBIOGEME(database, logprob)\n\u001b[0;32m     <a href='vscode-notebook-cell:/d%3A/migration/migration/model/ky_model/modeling.ipynb#ch0000028?line=17'>18</a>\u001b[0m biogeme\u001b[39m.\u001b[39mmodelName \u001b[39m=\u001b[39m \u001b[39m'\u001b[39m\u001b[39mky_full_updated\u001b[39m\u001b[39m'\u001b[39m\n\u001b[0;32m     <a href='vscode-notebook-cell:/d%3A/migration/migration/model/ky_model/modeling.ipynb#ch0000028?line=19'>20</a>\u001b[0m \u001b[39m# Calculate the null log likelihood for reporting. (likelihood of predicting every entry's alterantive correctly if alternatives are randomly chosen)\u001b[39;00m\n",
      "File \u001b[1;32mD:\\miniconda3\\envs\\py38\\lib\\site-packages\\biogeme\\biogeme.py:290\u001b[0m, in \u001b[0;36mBIOGEME.__init__\u001b[1;34m(self, database, formulas, userNotes, numberOfThreads, numberOfDraws, seed, skipAudit, removeUnusedVariables, displayUsedVariables, suggestScales, missingData)\u001b[0m\n\u001b[0;32m    <a href='file:///d%3A/miniconda3/envs/py38/lib/site-packages/biogeme/biogeme.py?line=287'>288</a>\u001b[0m     \u001b[39mself\u001b[39m\u001b[39m.\u001b[39mtheC\u001b[39m.\u001b[39msetDataMap(\u001b[39mself\u001b[39m\u001b[39m.\u001b[39mdatabase\u001b[39m.\u001b[39mindividualMap)\n\u001b[0;32m    <a href='file:///d%3A/miniconda3/envs/py38/lib/site-packages/biogeme/biogeme.py?line=288'>289</a>\u001b[0m \u001b[39m# Transfer the data to the C++ formula\u001b[39;00m\n\u001b[1;32m--> <a href='file:///d%3A/miniconda3/envs/py38/lib/site-packages/biogeme/biogeme.py?line=289'>290</a>\u001b[0m \u001b[39mself\u001b[39;49m\u001b[39m.\u001b[39;49mtheC\u001b[39m.\u001b[39;49msetData(\u001b[39mself\u001b[39;49m\u001b[39m.\u001b[39;49mdatabase\u001b[39m.\u001b[39;49mdata)\n\u001b[0;32m    <a href='file:///d%3A/miniconda3/envs/py38/lib/site-packages/biogeme/biogeme.py?line=290'>291</a>\u001b[0m \u001b[39mself\u001b[39m\u001b[39m.\u001b[39mtheC\u001b[39m.\u001b[39msetMissingData(\u001b[39mself\u001b[39m\u001b[39m.\u001b[39mmissingData)\n\u001b[0;32m    <a href='file:///d%3A/miniconda3/envs/py38/lib/site-packages/biogeme/biogeme.py?line=292'>293</a>\u001b[0m \u001b[39mself\u001b[39m\u001b[39m.\u001b[39mgenerateHtml \u001b[39m=\u001b[39m \u001b[39mTrue\u001b[39;00m\n",
      "File \u001b[1;32mD:\\miniconda3\\envs\\py38\\lib\\site-packages\\src\\cbiogeme.pyx:165\u001b[0m, in \u001b[0;36mbiogeme.cbiogeme.pyBiogeme.setData\u001b[1;34m()\u001b[0m\n",
      "File \u001b[1;32mD:\\miniconda3\\envs\\py38\\lib\\site-packages\\pandas\\core\\generic.py:2072\u001b[0m, in \u001b[0;36mNDFrame.__array__\u001b[1;34m(self, dtype)\u001b[0m\n\u001b[0;32m   <a href='file:///d%3A/miniconda3/envs/py38/lib/site-packages/pandas/core/generic.py?line=2070'>2071</a>\u001b[0m \u001b[39mdef\u001b[39;00m \u001b[39m__array__\u001b[39m(\u001b[39mself\u001b[39m, dtype: npt\u001b[39m.\u001b[39mDTypeLike \u001b[39m|\u001b[39m \u001b[39mNone\u001b[39;00m \u001b[39m=\u001b[39m \u001b[39mNone\u001b[39;00m) \u001b[39m-\u001b[39m\u001b[39m>\u001b[39m np\u001b[39m.\u001b[39mndarray:\n\u001b[1;32m-> <a href='file:///d%3A/miniconda3/envs/py38/lib/site-packages/pandas/core/generic.py?line=2071'>2072</a>\u001b[0m     \u001b[39mreturn\u001b[39;00m np\u001b[39m.\u001b[39masarray(\u001b[39mself\u001b[39;49m\u001b[39m.\u001b[39;49m_values, dtype\u001b[39m=\u001b[39mdtype)\n",
      "File \u001b[1;32mD:\\miniconda3\\envs\\py38\\lib\\site-packages\\pandas\\core\\frame.py:918\u001b[0m, in \u001b[0;36mDataFrame._values\u001b[1;34m(self)\u001b[0m\n\u001b[0;32m    <a href='file:///d%3A/miniconda3/envs/py38/lib/site-packages/pandas/core/frame.py?line=915'>916</a>\u001b[0m blocks \u001b[39m=\u001b[39m mgr\u001b[39m.\u001b[39mblocks\n\u001b[0;32m    <a href='file:///d%3A/miniconda3/envs/py38/lib/site-packages/pandas/core/frame.py?line=916'>917</a>\u001b[0m \u001b[39mif\u001b[39;00m \u001b[39mlen\u001b[39m(blocks) \u001b[39m!=\u001b[39m \u001b[39m1\u001b[39m:\n\u001b[1;32m--> <a href='file:///d%3A/miniconda3/envs/py38/lib/site-packages/pandas/core/frame.py?line=917'>918</a>\u001b[0m     \u001b[39mreturn\u001b[39;00m \u001b[39mself\u001b[39;49m\u001b[39m.\u001b[39;49mvalues\n\u001b[0;32m    <a href='file:///d%3A/miniconda3/envs/py38/lib/site-packages/pandas/core/frame.py?line=919'>920</a>\u001b[0m arr \u001b[39m=\u001b[39m blocks[\u001b[39m0\u001b[39m]\u001b[39m.\u001b[39mvalues\n\u001b[0;32m    <a href='file:///d%3A/miniconda3/envs/py38/lib/site-packages/pandas/core/frame.py?line=920'>921</a>\u001b[0m \u001b[39mif\u001b[39;00m arr\u001b[39m.\u001b[39mndim \u001b[39m==\u001b[39m \u001b[39m1\u001b[39m:\n\u001b[0;32m    <a href='file:///d%3A/miniconda3/envs/py38/lib/site-packages/pandas/core/frame.py?line=921'>922</a>\u001b[0m     \u001b[39m# non-2D ExtensionArray\u001b[39;00m\n",
      "File \u001b[1;32mD:\\miniconda3\\envs\\py38\\lib\\site-packages\\pandas\\core\\frame.py:10877\u001b[0m, in \u001b[0;36mDataFrame.values\u001b[1;34m(self)\u001b[0m\n\u001b[0;32m  <a href='file:///d%3A/miniconda3/envs/py38/lib/site-packages/pandas/core/frame.py?line=10803'>10804</a>\u001b[0m \u001b[39m\"\"\"\u001b[39;00m\n\u001b[0;32m  <a href='file:///d%3A/miniconda3/envs/py38/lib/site-packages/pandas/core/frame.py?line=10804'>10805</a>\u001b[0m \u001b[39mReturn a Numpy representation of the DataFrame.\u001b[39;00m\n\u001b[0;32m  <a href='file:///d%3A/miniconda3/envs/py38/lib/site-packages/pandas/core/frame.py?line=10805'>10806</a>\u001b[0m \n\u001b[1;32m   (...)\u001b[0m\n\u001b[0;32m  <a href='file:///d%3A/miniconda3/envs/py38/lib/site-packages/pandas/core/frame.py?line=10873'>10874</a>\u001b[0m \u001b[39m       ['monkey', nan, None]], dtype=object)\u001b[39;00m\n\u001b[0;32m  <a href='file:///d%3A/miniconda3/envs/py38/lib/site-packages/pandas/core/frame.py?line=10874'>10875</a>\u001b[0m \u001b[39m\"\"\"\u001b[39;00m\n\u001b[0;32m  <a href='file:///d%3A/miniconda3/envs/py38/lib/site-packages/pandas/core/frame.py?line=10875'>10876</a>\u001b[0m \u001b[39mself\u001b[39m\u001b[39m.\u001b[39m_consolidate_inplace()\n\u001b[1;32m> <a href='file:///d%3A/miniconda3/envs/py38/lib/site-packages/pandas/core/frame.py?line=10876'>10877</a>\u001b[0m \u001b[39mreturn\u001b[39;00m \u001b[39mself\u001b[39;49m\u001b[39m.\u001b[39;49m_mgr\u001b[39m.\u001b[39;49mas_array()\n",
      "File \u001b[1;32mD:\\miniconda3\\envs\\py38\\lib\\site-packages\\pandas\\core\\internals\\managers.py:1589\u001b[0m, in \u001b[0;36mBlockManager.as_array\u001b[1;34m(self, dtype, copy, na_value)\u001b[0m\n\u001b[0;32m   <a href='file:///d%3A/miniconda3/envs/py38/lib/site-packages/pandas/core/internals/managers.py?line=1586'>1587</a>\u001b[0m             arr \u001b[39m=\u001b[39m arr\u001b[39m.\u001b[39mastype(dtype, copy\u001b[39m=\u001b[39m\u001b[39mFalse\u001b[39;00m)\n\u001b[0;32m   <a href='file:///d%3A/miniconda3/envs/py38/lib/site-packages/pandas/core/internals/managers.py?line=1587'>1588</a>\u001b[0m \u001b[39melse\u001b[39;00m:\n\u001b[1;32m-> <a href='file:///d%3A/miniconda3/envs/py38/lib/site-packages/pandas/core/internals/managers.py?line=1588'>1589</a>\u001b[0m     arr \u001b[39m=\u001b[39m \u001b[39mself\u001b[39;49m\u001b[39m.\u001b[39;49m_interleave(dtype\u001b[39m=\u001b[39;49mdtype, na_value\u001b[39m=\u001b[39;49mna_value)\n\u001b[0;32m   <a href='file:///d%3A/miniconda3/envs/py38/lib/site-packages/pandas/core/internals/managers.py?line=1589'>1590</a>\u001b[0m     \u001b[39m# The underlying data was copied within _interleave\u001b[39;00m\n\u001b[0;32m   <a href='file:///d%3A/miniconda3/envs/py38/lib/site-packages/pandas/core/internals/managers.py?line=1590'>1591</a>\u001b[0m     copy \u001b[39m=\u001b[39m \u001b[39mFalse\u001b[39;00m\n",
      "File \u001b[1;32mD:\\miniconda3\\envs\\py38\\lib\\site-packages\\pandas\\core\\internals\\managers.py:1654\u001b[0m, in \u001b[0;36mBlockManager._interleave\u001b[1;34m(self, dtype, na_value)\u001b[0m\n\u001b[0;32m   <a href='file:///d%3A/miniconda3/envs/py38/lib/site-packages/pandas/core/internals/managers.py?line=1651'>1652</a>\u001b[0m     \u001b[39melse\u001b[39;00m:\n\u001b[0;32m   <a href='file:///d%3A/miniconda3/envs/py38/lib/site-packages/pandas/core/internals/managers.py?line=1652'>1653</a>\u001b[0m         arr \u001b[39m=\u001b[39m blk\u001b[39m.\u001b[39mget_values(dtype)\n\u001b[1;32m-> <a href='file:///d%3A/miniconda3/envs/py38/lib/site-packages/pandas/core/internals/managers.py?line=1653'>1654</a>\u001b[0m     result[rl\u001b[39m.\u001b[39mindexer] \u001b[39m=\u001b[39m arr\n\u001b[0;32m   <a href='file:///d%3A/miniconda3/envs/py38/lib/site-packages/pandas/core/internals/managers.py?line=1654'>1655</a>\u001b[0m     itemmask[rl\u001b[39m.\u001b[39mindexer] \u001b[39m=\u001b[39m \u001b[39m1\u001b[39m\n\u001b[0;32m   <a href='file:///d%3A/miniconda3/envs/py38/lib/site-packages/pandas/core/internals/managers.py?line=1656'>1657</a>\u001b[0m \u001b[39mif\u001b[39;00m \u001b[39mnot\u001b[39;00m itemmask\u001b[39m.\u001b[39mall():\n",
      "\u001b[1;31mKeyboardInterrupt\u001b[0m: "
     ]
    }
   ],
   "source": [
    "# Associate utility functions with the numbering of alternatives (corresponds to the CHOSEN field created earlier)\n",
    "V = {0: V0, 1: V1, 2: V2, 3: V3, 4: V4, 5: V5, 6: V6, 7: V7, 8: V8, 9: V9, 10: V10, 11: V11, 12: V12, 13: V13, 14: V14, 15: V15, 16: V16, 17: V17, 18: V18, 19: V19, 20: V20, 21: V21, 22: V22, 23: V23, 24: V24, 25: V25, 26: V26, 27: V27, 28: V28, 29: V29, 30: V30, 31: V31, 32: V32, 33: V33, 34: V34}\n",
    "\n",
    "# Associate the availability conditions with the alternatives\n",
    "# for this model, all migrants had all alternatives theoretically available so all are equal to 1 (available)\n",
    "# if individual people had different availability for alterantives, could pass in a column of the dataframe to account for that availability\n",
    "av = {}\n",
    "for i in range(0, 35):\n",
    "    av[i] = 1\n",
    "\n",
    "# Definition of the model. This is the contribution of each\n",
    "# observation to the log likelihood function.\n",
    "# estimating the CHOSEN field\n",
    "logprob = models.loglogit(V, av, CHOSEN)\n",
    "\n",
    "# Create the Biogeme object\n",
    "biogeme = bio.BIOGEME(database, logprob)\n",
    "biogeme.modelName = 'ky_full_updated'\n",
    "\n",
    "# Calculate the null log likelihood for reporting. (likelihood of predicting every entry's alterantive correctly if alternatives are randomly chosen)\n",
    "biogeme.calculateNullLoglikelihood(av)\n",
    "\n",
    "# Estimate the parameters\n",
    "results = biogeme.estimate()\n",
    "\n",
    "# Get the results in a pandas table\n",
    "pandasResults = results.getEstimatedParameters()\n",
    "print(pandasResults)"
   ]
  },
  {
   "cell_type": "code",
   "execution_count": 69,
   "id": "6366678d",
   "metadata": {},
   "outputs": [],
   "source": [
    "# V0 = c_stay_married * MARRIED + c_stay_income * PINCP + c_stay_child * child + c_stay"
   ]
  },
  {
   "cell_type": "code",
   "execution_count": 222,
   "id": "c28128d5",
   "metadata": {},
   "outputs": [],
   "source": [
    "# Associate utility functions with the numbering of alternatives (corresponds to the CHOSEN field created earlier)\n",
    "V = {0: V0, 1: V1, 2: V2, 3: V3, 4: V4, 5: V5, 6: V6, 7: V7, 8: V8, 9: V9, 10: V10, 11: V11, 12: V12, 13: V13, 14: V14, 15: V15, 16: V16, 17: V17, 18: V18, 19: V19, 20: V20, 21: V21, 22: V22, 23: V23, 24: V24, 25: V25, 26: V26, 27: V27, 28: V28, 29: V29, 30: V30, 31: V31, 32: V32, 33: V33, 34: V34}\n",
    "\n",
    "# Associate the availability conditions with the alternatives\n",
    "# for this model, all migrants had all alternatives theoretically available so all are equal to 1 (available)\n",
    "# if individual people had different availability for alterantives, could pass in a column of the dataframe to account for that availability\n",
    "av = {}\n",
    "for i in range(35):\n",
    "    av[i] = 1"
   ]
  },
  {
   "cell_type": "code",
   "execution_count": 223,
   "id": "180108c4",
   "metadata": {},
   "outputs": [],
   "source": [
    "move = Beta(\"move\", 1.497034, 1, None, 0)"
   ]
  },
  {
   "cell_type": "code",
   "execution_count": 224,
   "id": "8eabd8e4",
   "metadata": {},
   "outputs": [],
   "source": [
    "nest_move = move, list(range(1, 35))\n",
    "nest_stay = 1.0, [0]\n",
    "nests = nest_move, nest_stay"
   ]
  },
  {
   "cell_type": "code",
   "execution_count": 225,
   "id": "61c60528",
   "metadata": {},
   "outputs": [
    {
     "name": "stdout",
     "output_type": "stream",
     "text": [
      "                             Value       Std err     t-test       p-value  \\\n",
      "c_destchoice_age_18_34    2.791708  4.596354e-01   6.073744  1.249616e-09   \n",
      "c_destchoice_age_35_64    0.908286  3.195224e-01   2.842636  4.474219e-03   \n",
      "c_destchoice_age_over_65 -0.006997  1.372659e-01  -0.050971  9.593487e-01   \n",
      "c_destchoice_college      0.000080  6.195227e-06  12.964654  0.000000e+00   \n",
      "c_destchoice_dist        -0.000005  3.632288e-07 -14.389533  0.000000e+00   \n",
      "c_destchoice_entscore     0.070380  3.609004e-03  19.501121  0.000000e+00   \n",
      "c_destchoice_foreign      4.120548  5.485917e-02  75.111377  0.000000e+00   \n",
      "c_destchoice_hhinc        0.000015  2.208224e-06   6.581960  4.642864e-11   \n",
      "c_destchoice_hurent      -0.001797  2.247501e-04  -7.996005  1.332268e-15   \n",
      "c_destchoice_logdist     -0.139013  7.474589e-03 -18.598095  0.000000e+00   \n",
      "c_destchoice_pctbach      2.986815  7.799591e-01   3.829451  1.284295e-04   \n",
      "c_destchoice_pctnobach    2.598586  6.955415e-01   3.736062  1.869245e-04   \n",
      "c_destchoice_urban       -0.008475  4.019373e-03  -2.108473  3.499006e-02   \n",
      "c_destchoice_vacancy      0.585099  4.103675e-01   1.425794  1.539279e-01   \n",
      "c_move                   -8.118738  2.861252e-01 -28.374774  0.000000e+00   \n",
      "c_stay                    8.118738  2.866679e-01  28.321057  0.000000e+00   \n",
      "c_stay_age_18_22         -0.697942  1.105204e-01  -6.315049  2.700755e-10   \n",
      "c_stay_age_23_29         -0.822087  1.009432e-01  -8.144051  4.440892e-16   \n",
      "c_stay_age_30_39         -0.426302  7.440692e-02  -5.729327  1.008301e-08   \n",
      "c_stay_age_50_64          0.334973  6.597741e-02   5.077089  3.832622e-07   \n",
      "c_stay_age_65             0.472261  1.356508e-01   3.481447  4.987129e-04   \n",
      "c_stay_child             -0.390021  4.103304e-02  -9.505051  0.000000e+00   \n",
      "c_stay_college            0.625113  9.147202e-02   6.833929  8.262058e-12   \n",
      "c_stay_dens               0.000391  4.497523e-05   8.702486  0.000000e+00   \n",
      "c_stay_edu_college       -0.850681  4.522062e-01  -1.881180  5.994744e-02   \n",
      "c_stay_edu_nohigh        -0.164981  5.850149e-02  -2.820120  4.800573e-03   \n",
      "c_stay_edu_somecollege   -0.036110  4.535507e-02  -0.796161  4.259385e-01   \n",
      "c_stay_foreign            0.143991  9.094904e-02   1.583200  1.133758e-01   \n",
      "c_stay_hhinc_orig         0.000013  3.479468e-06   3.628167  2.854406e-04   \n",
      "c_stay_hurent            -0.001501  3.679460e-04  -4.080365  4.496503e-05   \n",
      "c_stay_income             0.000002  5.101582e-07   3.849194  1.185072e-04   \n",
      "c_stay_married            0.901507  5.002958e-02  18.019484  0.000000e+00   \n",
      "c_stay_origin_unemp      -2.236769  1.381008e+00  -1.619664  1.053045e-01   \n",
      "c_stay_rec_child         -0.278537  8.898682e-02  -3.130092  1.747517e-03   \n",
      "c_stay_rec_mar           -0.185833  3.037871e-02  -6.117211  9.522751e-10   \n",
      "c_stay_rec_nomar         -0.622270  1.106633e-01  -5.623096  1.875652e-08   \n",
      "move                      1.500821  6.974347e-02  21.519164  0.000000e+00   \n",
      "\n",
      "                          Rob. Std err  Rob. t-test  Rob. p-value  \n",
      "c_destchoice_age_18_34    4.767096e-01     5.856202  4.735709e-09  \n",
      "c_destchoice_age_35_64    3.300328e-01     2.752107  5.921309e-03  \n",
      "c_destchoice_age_over_65  1.396267e-01    -0.050109  9.600355e-01  \n",
      "c_destchoice_college      5.642919e-06    14.233585  0.000000e+00  \n",
      "c_destchoice_dist         3.882503e-07   -13.462174  0.000000e+00  \n",
      "c_destchoice_entscore     3.717621e-03    18.931357  0.000000e+00  \n",
      "c_destchoice_foreign      5.563137e-02    74.068777  0.000000e+00  \n",
      "c_destchoice_hhinc        2.214119e-06     6.564438  5.222955e-11  \n",
      "c_destchoice_hurent       2.312838e-04    -7.770121  7.771561e-15  \n",
      "c_destchoice_logdist      7.436815e-03   -18.692562  0.000000e+00  \n",
      "c_destchoice_pctbach      7.501603e-01     3.981569  6.846176e-05  \n",
      "c_destchoice_pctnobach    7.378244e-01     3.521958  4.283722e-04  \n",
      "c_destchoice_urban        4.310709e-03    -1.965974  4.930164e-02  \n",
      "c_destchoice_vacancy      4.018449e-01     1.456033  1.453835e-01  \n",
      "c_move                    3.069557e-01   -26.449222  0.000000e+00  \n",
      "c_stay                    3.075399e-01    26.398972  0.000000e+00  \n",
      "c_stay_age_18_22          1.128223e-01    -6.186206  6.162935e-10  \n",
      "c_stay_age_23_29          1.024428e-01    -8.024832  1.110223e-15  \n",
      "c_stay_age_30_39          7.536714e-02    -5.656332  1.546424e-08  \n",
      "c_stay_age_50_64          6.605737e-02     5.070943  3.958493e-07  \n",
      "c_stay_age_65             1.392511e-01     3.391434  6.952789e-04  \n",
      "c_stay_child              4.281463e-02    -9.109530  0.000000e+00  \n",
      "c_stay_college            8.912235e-02     7.014102  2.314371e-12  \n",
      "c_stay_dens               4.425428e-05     8.844260  0.000000e+00  \n",
      "c_stay_edu_college        4.699444e-01    -1.810174  7.026880e-02  \n",
      "c_stay_edu_nohigh         5.974717e-02    -2.761323  5.756780e-03  \n",
      "c_stay_edu_somecollege    4.566893e-02    -0.790689  4.291253e-01  \n",
      "c_stay_foreign            9.332752e-02     1.542852  1.228667e-01  \n",
      "c_stay_hhinc_orig         3.512429e-06     3.594120  3.254896e-04  \n",
      "c_stay_hurent             3.712958e-04    -4.043553  5.264731e-05  \n",
      "c_stay_income             5.442966e-07     3.607772  3.088379e-04  \n",
      "c_stay_married            5.073225e-02    17.769905  0.000000e+00  \n",
      "c_stay_origin_unemp       1.372556e+00    -1.629638  1.031781e-01  \n",
      "c_stay_rec_child          9.030874e-02    -3.084274  2.040494e-03  \n",
      "c_stay_rec_mar            3.125523e-02    -5.945660  2.753447e-09  \n",
      "c_stay_rec_nomar          1.131734e-01    -5.498381  3.832937e-08  \n",
      "move                      5.839461e-02    25.701364  0.000000e+00  \n"
     ]
    }
   ],
   "source": [
    "nest_logprob = models.lognested(V, av, nests, CHOSEN)\n",
    "\n",
    "# Create the Biogeme object\n",
    "biogeme_nest = bio.BIOGEME(database, nest_logprob)\n",
    "biogeme_nest.modelName = \"nested_full_lifeevents\"\n",
    "\n",
    "# Calculate the null log likelihood for reporting.\n",
    "biogeme_nest.calculateNullLoglikelihood(av)\n",
    "\n",
    "# Estimate the parameters\n",
    "results_nest = biogeme_nest.estimate()\n",
    "pandasResults_nest = results_nest.getEstimatedParameters()\n",
    "print(pandasResults_nest)"
   ]
  },
  {
   "cell_type": "code",
   "execution_count": null,
   "id": "93ef1ed2",
   "metadata": {},
   "outputs": [],
   "source": [
    "# start from there and add -- for destination choice\n",
    "# UNEMPLOYMENT RATE\n",
    "# MED RENT\n",
    "# MED HOUSE PRICE\n",
    "# RURAL to RURAL\n",
    "# RURAL to URBAN\n",
    "# URBAN to URBAN \n",
    "# URBAN to RURAL\n",
    "# MEDIAN INCOME of alternative PUMA\n",
    "# VACANCY RATE (VACANCY / HOUSING UNITS)\n",
    "# RENT as PERCENT OF INCOME in DEST -- better to do median rent as a percent of my income\n",
    "# OWNERSHIP COST as PERCENT OF INCOME -- median home price as a percent of my income\n",
    "\n",
    "\n",
    "\n",
    "# % of POP AGE 18-30 - if I\"m 18-30, am I more likely to go there\n",
    "# % of POP AGE 65+ - if I\"m age 65+\n",
    "# INCOME(of the person) * URBAN (of the alternative)"
   ]
  },
  {
   "cell_type": "code",
   "execution_count": null,
   "id": "e8173ca4",
   "metadata": {},
   "outputs": [],
   "source": [
    "# then add one more alternative for: Didn't move.  "
   ]
  }
 ],
 "metadata": {
  "kernelspec": {
   "display_name": "Python 3",
   "language": "python",
   "name": "python3"
  },
  "language_info": {
   "codemirror_mode": {
    "name": "ipython",
    "version": 3
   },
   "file_extension": ".py",
   "mimetype": "text/x-python",
   "name": "python",
   "nbconvert_exporter": "python",
   "pygments_lexer": "ipython3",
   "version": "3.8.13"
  }
 },
 "nbformat": 4,
 "nbformat_minor": 5
}
