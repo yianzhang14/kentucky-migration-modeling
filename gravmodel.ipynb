{
 "cells": [
  {
   "cell_type": "code",
   "execution_count": 34,
   "metadata": {
    "vscode": {
     "languageId": "r"
    }
   },
   "outputs": [],
   "source": [
    "library(tidyverse)\n",
    "# library(gravity)"
   ]
  },
  {
   "cell_type": "code",
   "execution_count": 35,
   "metadata": {
    "vscode": {
     "languageId": "r"
    }
   },
   "outputs": [],
   "source": [
    "df <- read.csv(\"data/ky_grav_data.csv\")"
   ]
  },
  {
   "cell_type": "code",
   "execution_count": 36,
   "metadata": {
    "vscode": {
     "languageId": "r"
    }
   },
   "outputs": [
    {
     "data": {
      "text/html": [
       "<table class=\"dataframe\">\n",
       "<caption>A data.frame: 6 × 12</caption>\n",
       "<thead>\n",
       "\t<tr><th></th><th scope=col>X</th><th scope=col>MIGPUMA</th><th scope=col>PUMA</th><th scope=col>filler_x</th><th scope=col>distance</th><th scope=col>year</th><th scope=col>internal</th><th scope=col>pop_orig</th><th scope=col>pop_dest</th><th scope=col>dens_orig</th><th scope=col>dens_dest</th><th scope=col>filler_y</th></tr>\n",
       "\t<tr><th></th><th scope=col>&lt;int&gt;</th><th scope=col>&lt;int&gt;</th><th scope=col>&lt;int&gt;</th><th scope=col>&lt;int&gt;</th><th scope=col>&lt;dbl&gt;</th><th scope=col>&lt;int&gt;</th><th scope=col>&lt;int&gt;</th><th scope=col>&lt;int&gt;</th><th scope=col>&lt;int&gt;</th><th scope=col>&lt;dbl&gt;</th><th scope=col>&lt;dbl&gt;</th><th scope=col>&lt;int&gt;</th></tr>\n",
       "</thead>\n",
       "<tbody>\n",
       "\t<tr><th scope=row>1</th><td>0</td><td>21001002</td><td>21001001</td><td>124</td><td>     0.0</td><td>2018</td><td>1</td><td>196280</td><td>196280</td><td>236.7249</td><td>236.7249</td><td>160</td></tr>\n",
       "\t<tr><th scope=row>2</th><td>1</td><td>21001002</td><td>21002001</td><td>  5</td><td>128602.4</td><td>2018</td><td>0</td><td>196280</td><td>107986</td><td>236.7249</td><td>130.2373</td><td>160</td></tr>\n",
       "\t<tr><th scope=row>3</th><td>2</td><td>21001002</td><td>21003001</td><td>  1</td><td>126902.1</td><td>2018</td><td>0</td><td>196280</td><td>107294</td><td>236.7249</td><td>129.4027</td><td>160</td></tr>\n",
       "\t<tr><th scope=row>4</th><td>3</td><td>21001002</td><td>21005001</td><td>  1</td><td>263705.0</td><td>2018</td><td>0</td><td>196280</td><td>131264</td><td>236.7249</td><td>242.3080</td><td>160</td></tr>\n",
       "\t<tr><th scope=row>5</th><td>4</td><td>21001002</td><td>21006001</td><td>  2</td><td>392468.0</td><td>2018</td><td>0</td><td>196280</td><td>104582</td><td>236.7249</td><td>126.1319</td><td>160</td></tr>\n",
       "\t<tr><th scope=row>6</th><td>5</td><td>21001002</td><td>21007001</td><td>  5</td><td>468036.7</td><td>2018</td><td>0</td><td>196280</td><td>103167</td><td>236.7249</td><td>124.4253</td><td>160</td></tr>\n",
       "</tbody>\n",
       "</table>\n"
      ],
      "text/latex": [
       "A data.frame: 6 × 12\n",
       "\\begin{tabular}{r|llllllllllll}\n",
       "  & X & MIGPUMA & PUMA & filler\\_x & distance & year & internal & pop\\_orig & pop\\_dest & dens\\_orig & dens\\_dest & filler\\_y\\\\\n",
       "  & <int> & <int> & <int> & <int> & <dbl> & <int> & <int> & <int> & <int> & <dbl> & <dbl> & <int>\\\\\n",
       "\\hline\n",
       "\t1 & 0 & 21001002 & 21001001 & 124 &      0.0 & 2018 & 1 & 196280 & 196280 & 236.7249 & 236.7249 & 160\\\\\n",
       "\t2 & 1 & 21001002 & 21002001 &   5 & 128602.4 & 2018 & 0 & 196280 & 107986 & 236.7249 & 130.2373 & 160\\\\\n",
       "\t3 & 2 & 21001002 & 21003001 &   1 & 126902.1 & 2018 & 0 & 196280 & 107294 & 236.7249 & 129.4027 & 160\\\\\n",
       "\t4 & 3 & 21001002 & 21005001 &   1 & 263705.0 & 2018 & 0 & 196280 & 131264 & 236.7249 & 242.3080 & 160\\\\\n",
       "\t5 & 4 & 21001002 & 21006001 &   2 & 392468.0 & 2018 & 0 & 196280 & 104582 & 236.7249 & 126.1319 & 160\\\\\n",
       "\t6 & 5 & 21001002 & 21007001 &   5 & 468036.7 & 2018 & 0 & 196280 & 103167 & 236.7249 & 124.4253 & 160\\\\\n",
       "\\end{tabular}\n"
      ],
      "text/markdown": [
       "\n",
       "A data.frame: 6 × 12\n",
       "\n",
       "| <!--/--> | X &lt;int&gt; | MIGPUMA &lt;int&gt; | PUMA &lt;int&gt; | filler_x &lt;int&gt; | distance &lt;dbl&gt; | year &lt;int&gt; | internal &lt;int&gt; | pop_orig &lt;int&gt; | pop_dest &lt;int&gt; | dens_orig &lt;dbl&gt; | dens_dest &lt;dbl&gt; | filler_y &lt;int&gt; |\n",
       "|---|---|---|---|---|---|---|---|---|---|---|---|---|\n",
       "| 1 | 0 | 21001002 | 21001001 | 124 |      0.0 | 2018 | 1 | 196280 | 196280 | 236.7249 | 236.7249 | 160 |\n",
       "| 2 | 1 | 21001002 | 21002001 |   5 | 128602.4 | 2018 | 0 | 196280 | 107986 | 236.7249 | 130.2373 | 160 |\n",
       "| 3 | 2 | 21001002 | 21003001 |   1 | 126902.1 | 2018 | 0 | 196280 | 107294 | 236.7249 | 129.4027 | 160 |\n",
       "| 4 | 3 | 21001002 | 21005001 |   1 | 263705.0 | 2018 | 0 | 196280 | 131264 | 236.7249 | 242.3080 | 160 |\n",
       "| 5 | 4 | 21001002 | 21006001 |   2 | 392468.0 | 2018 | 0 | 196280 | 104582 | 236.7249 | 126.1319 | 160 |\n",
       "| 6 | 5 | 21001002 | 21007001 |   5 | 468036.7 | 2018 | 0 | 196280 | 103167 | 236.7249 | 124.4253 | 160 |\n",
       "\n"
      ],
      "text/plain": [
       "  X MIGPUMA  PUMA     filler_x distance year internal pop_orig pop_dest\n",
       "1 0 21001002 21001001 124           0.0 2018 1        196280   196280  \n",
       "2 1 21001002 21002001   5      128602.4 2018 0        196280   107986  \n",
       "3 2 21001002 21003001   1      126902.1 2018 0        196280   107294  \n",
       "4 3 21001002 21005001   1      263705.0 2018 0        196280   131264  \n",
       "5 4 21001002 21006001   2      392468.0 2018 0        196280   104582  \n",
       "6 5 21001002 21007001   5      468036.7 2018 0        196280   103167  \n",
       "  dens_orig dens_dest filler_y\n",
       "1 236.7249  236.7249  160     \n",
       "2 236.7249  130.2373  160     \n",
       "3 236.7249  129.4027  160     \n",
       "4 236.7249  242.3080  160     \n",
       "5 236.7249  126.1319  160     \n",
       "6 236.7249  124.4253  160     "
      ]
     },
     "metadata": {},
     "output_type": "display_data"
    }
   ],
   "source": [
    "head(df)"
   ]
  },
  {
   "cell_type": "code",
   "execution_count": 37,
   "metadata": {
    "vscode": {
     "languageId": "r"
    }
   },
   "outputs": [
    {
     "data": {
      "text/html": [
       "<table class=\"dataframe\">\n",
       "<caption>A data.frame: 6 × 12</caption>\n",
       "<thead>\n",
       "\t<tr><th></th><th scope=col>X</th><th scope=col>MIGPUMA</th><th scope=col>PUMA</th><th scope=col>filler_x</th><th scope=col>distance</th><th scope=col>year</th><th scope=col>internal</th><th scope=col>pop_orig</th><th scope=col>pop_dest</th><th scope=col>dens_orig</th><th scope=col>dens_dest</th><th scope=col>filler_y</th></tr>\n",
       "\t<tr><th></th><th scope=col>&lt;int&gt;</th><th scope=col>&lt;int&gt;</th><th scope=col>&lt;int&gt;</th><th scope=col>&lt;int&gt;</th><th scope=col>&lt;dbl&gt;</th><th scope=col>&lt;int&gt;</th><th scope=col>&lt;int&gt;</th><th scope=col>&lt;int&gt;</th><th scope=col>&lt;int&gt;</th><th scope=col>&lt;dbl&gt;</th><th scope=col>&lt;dbl&gt;</th><th scope=col>&lt;int&gt;</th></tr>\n",
       "</thead>\n",
       "<tbody>\n",
       "\t<tr><th scope=row>2</th><td>1</td><td>21001002</td><td>21002001</td><td>5</td><td>128602.4</td><td>2018</td><td>0</td><td>196280</td><td>107986</td><td>236.7249</td><td>130.2373</td><td>160</td></tr>\n",
       "\t<tr><th scope=row>3</th><td>2</td><td>21001002</td><td>21003001</td><td>1</td><td>126902.1</td><td>2018</td><td>0</td><td>196280</td><td>107294</td><td>236.7249</td><td>129.4027</td><td>160</td></tr>\n",
       "\t<tr><th scope=row>4</th><td>3</td><td>21001002</td><td>21005001</td><td>1</td><td>263705.0</td><td>2018</td><td>0</td><td>196280</td><td>131264</td><td>236.7249</td><td>242.3080</td><td>160</td></tr>\n",
       "\t<tr><th scope=row>5</th><td>4</td><td>21001002</td><td>21006001</td><td>2</td><td>392468.0</td><td>2018</td><td>0</td><td>196280</td><td>104582</td><td>236.7249</td><td>126.1319</td><td>160</td></tr>\n",
       "\t<tr><th scope=row>6</th><td>5</td><td>21001002</td><td>21007001</td><td>5</td><td>468036.7</td><td>2018</td><td>0</td><td>196280</td><td>103167</td><td>236.7249</td><td>124.4253</td><td>160</td></tr>\n",
       "\t<tr><th scope=row>7</th><td>6</td><td>21001002</td><td>21009001</td><td>1</td><td>568326.8</td><td>2018</td><td>0</td><td>196280</td><td>119856</td><td>236.7249</td><td>144.5532</td><td>160</td></tr>\n",
       "</tbody>\n",
       "</table>\n"
      ],
      "text/latex": [
       "A data.frame: 6 × 12\n",
       "\\begin{tabular}{r|llllllllllll}\n",
       "  & X & MIGPUMA & PUMA & filler\\_x & distance & year & internal & pop\\_orig & pop\\_dest & dens\\_orig & dens\\_dest & filler\\_y\\\\\n",
       "  & <int> & <int> & <int> & <int> & <dbl> & <int> & <int> & <int> & <int> & <dbl> & <dbl> & <int>\\\\\n",
       "\\hline\n",
       "\t2 & 1 & 21001002 & 21002001 & 5 & 128602.4 & 2018 & 0 & 196280 & 107986 & 236.7249 & 130.2373 & 160\\\\\n",
       "\t3 & 2 & 21001002 & 21003001 & 1 & 126902.1 & 2018 & 0 & 196280 & 107294 & 236.7249 & 129.4027 & 160\\\\\n",
       "\t4 & 3 & 21001002 & 21005001 & 1 & 263705.0 & 2018 & 0 & 196280 & 131264 & 236.7249 & 242.3080 & 160\\\\\n",
       "\t5 & 4 & 21001002 & 21006001 & 2 & 392468.0 & 2018 & 0 & 196280 & 104582 & 236.7249 & 126.1319 & 160\\\\\n",
       "\t6 & 5 & 21001002 & 21007001 & 5 & 468036.7 & 2018 & 0 & 196280 & 103167 & 236.7249 & 124.4253 & 160\\\\\n",
       "\t7 & 6 & 21001002 & 21009001 & 1 & 568326.8 & 2018 & 0 & 196280 & 119856 & 236.7249 & 144.5532 & 160\\\\\n",
       "\\end{tabular}\n"
      ],
      "text/markdown": [
       "\n",
       "A data.frame: 6 × 12\n",
       "\n",
       "| <!--/--> | X &lt;int&gt; | MIGPUMA &lt;int&gt; | PUMA &lt;int&gt; | filler_x &lt;int&gt; | distance &lt;dbl&gt; | year &lt;int&gt; | internal &lt;int&gt; | pop_orig &lt;int&gt; | pop_dest &lt;int&gt; | dens_orig &lt;dbl&gt; | dens_dest &lt;dbl&gt; | filler_y &lt;int&gt; |\n",
       "|---|---|---|---|---|---|---|---|---|---|---|---|---|\n",
       "| 2 | 1 | 21001002 | 21002001 | 5 | 128602.4 | 2018 | 0 | 196280 | 107986 | 236.7249 | 130.2373 | 160 |\n",
       "| 3 | 2 | 21001002 | 21003001 | 1 | 126902.1 | 2018 | 0 | 196280 | 107294 | 236.7249 | 129.4027 | 160 |\n",
       "| 4 | 3 | 21001002 | 21005001 | 1 | 263705.0 | 2018 | 0 | 196280 | 131264 | 236.7249 | 242.3080 | 160 |\n",
       "| 5 | 4 | 21001002 | 21006001 | 2 | 392468.0 | 2018 | 0 | 196280 | 104582 | 236.7249 | 126.1319 | 160 |\n",
       "| 6 | 5 | 21001002 | 21007001 | 5 | 468036.7 | 2018 | 0 | 196280 | 103167 | 236.7249 | 124.4253 | 160 |\n",
       "| 7 | 6 | 21001002 | 21009001 | 1 | 568326.8 | 2018 | 0 | 196280 | 119856 | 236.7249 | 144.5532 | 160 |\n",
       "\n"
      ],
      "text/plain": [
       "  X MIGPUMA  PUMA     filler_x distance year internal pop_orig pop_dest\n",
       "2 1 21001002 21002001 5        128602.4 2018 0        196280   107986  \n",
       "3 2 21001002 21003001 1        126902.1 2018 0        196280   107294  \n",
       "4 3 21001002 21005001 1        263705.0 2018 0        196280   131264  \n",
       "5 4 21001002 21006001 2        392468.0 2018 0        196280   104582  \n",
       "6 5 21001002 21007001 5        468036.7 2018 0        196280   103167  \n",
       "7 6 21001002 21009001 1        568326.8 2018 0        196280   119856  \n",
       "  dens_orig dens_dest filler_y\n",
       "2 236.7249  130.2373  160     \n",
       "3 236.7249  129.4027  160     \n",
       "4 236.7249  242.3080  160     \n",
       "5 236.7249  126.1319  160     \n",
       "6 236.7249  124.4253  160     \n",
       "7 236.7249  144.5532  160     "
      ]
     },
     "metadata": {},
     "output_type": "display_data"
    }
   ],
   "source": [
    "df_subset <- subset(df, internal != 1)\n",
    "head(df_subset)"
   ]
  },
  {
   "cell_type": "code",
   "execution_count": 48,
   "metadata": {
    "vscode": {
     "languageId": "r"
    }
   },
   "outputs": [],
   "source": [
    "res <- lm(log(filler_x) ~ log(dens_orig) + log(dens_dest) + log(distance + 1) - 1, data=df_subset)"
   ]
  },
  {
   "cell_type": "code",
   "execution_count": 49,
   "metadata": {
    "vscode": {
     "languageId": "r"
    }
   },
   "outputs": [
    {
     "data": {
      "text/plain": [
       "\n",
       "Call:\n",
       "lm(formula = log(filler_x) ~ log(dens_orig) + log(dens_dest) + \n",
       "    log(distance + 1) - 1, data = df_subset)\n",
       "\n",
       "Residuals:\n",
       "    Min      1Q  Median      3Q     Max \n",
       "-2.0240 -0.5346 -0.0433  0.6330  3.6645 \n",
       "\n",
       "Coefficients:\n",
       "                  Estimate Std. Error t value Pr(>|t|)    \n",
       "log(dens_orig)     0.45788    0.04557  10.048  < 2e-16 ***\n",
       "log(dens_dest)     0.15516    0.03557   4.362 1.65e-05 ***\n",
       "log(distance + 1) -0.21347    0.02311  -9.237  < 2e-16 ***\n",
       "---\n",
       "Signif. codes:  0 '***' 0.001 '**' 0.01 '*' 0.05 '.' 0.1 ' ' 1\n",
       "\n",
       "Residual standard error: 0.8747 on 387 degrees of freedom\n",
       "Multiple R-squared:  0.5702,\tAdjusted R-squared:  0.5669 \n",
       "F-statistic: 171.2 on 3 and 387 DF,  p-value: < 2.2e-16\n"
      ]
     },
     "metadata": {},
     "output_type": "display_data"
    }
   ],
   "source": [
    "summary(res)"
   ]
  },
  {
   "cell_type": "code",
   "execution_count": 40,
   "metadata": {
    "vscode": {
     "languageId": "r"
    }
   },
   "outputs": [],
   "source": [
    "min.RSS <- function(data, par) {\n",
    "    with(data, sum(log(filler_x) - par[1] * log(pop_orig) - par[2] * log(pop_dest + par[3] * internal) - par[4] * log(distance+ 1))^2)\n",
    "}"
   ]
  },
  {
   "cell_type": "code",
   "execution_count": 41,
   "metadata": {
    "vscode": {
     "languageId": "r"
    }
   },
   "outputs": [
    {
     "data": {
      "text/html": [
       "<dl>\n",
       "\t<dt>$par</dt>\n",
       "\t\t<dd><style>\n",
       ".list-inline {list-style: none; margin:0; padding: 0}\n",
       ".list-inline>li {display: inline-block}\n",
       ".list-inline>li:not(:last-child)::after {content: \"\\00b7\"; padding: 0 .5ex}\n",
       "</style>\n",
       "<ol class=list-inline><li>0.855758874505174</li><li>1.04558011460119</li><li>3.15389415261099</li><li>-1.91187171458362</li></ol>\n",
       "</dd>\n",
       "\t<dt>$value</dt>\n",
       "\t\t<dd>1.73427071768683e-05</dd>\n",
       "\t<dt>$counts</dt>\n",
       "\t\t<dd><style>\n",
       ".dl-inline {width: auto; margin:0; padding: 0}\n",
       ".dl-inline>dt, .dl-inline>dd {float: none; width: auto; display: inline-block}\n",
       ".dl-inline>dt::after {content: \":\\0020\"; padding-right: .5ex}\n",
       ".dl-inline>dt:not(:first-of-type) {padding-left: .5ex}\n",
       "</style><dl class=dl-inline><dt>function</dt><dd>109</dd><dt>gradient</dt><dd>&lt;NA&gt;</dd></dl>\n",
       "</dd>\n",
       "\t<dt>$convergence</dt>\n",
       "\t\t<dd>0</dd>\n",
       "\t<dt>$message</dt>\n",
       "\t\t<dd>NULL</dd>\n",
       "</dl>\n"
      ],
      "text/latex": [
       "\\begin{description}\n",
       "\\item[\\$par] \\begin{enumerate*}\n",
       "\\item 0.855758874505174\n",
       "\\item 1.04558011460119\n",
       "\\item 3.15389415261099\n",
       "\\item -1.91187171458362\n",
       "\\end{enumerate*}\n",
       "\n",
       "\\item[\\$value] 1.73427071768683e-05\n",
       "\\item[\\$counts] \\begin{description*}\n",
       "\\item[function] 109\n",
       "\\item[gradient] <NA>\n",
       "\\end{description*}\n",
       "\n",
       "\\item[\\$convergence] 0\n",
       "\\item[\\$message] NULL\n",
       "\\end{description}\n"
      ],
      "text/markdown": [
       "$par\n",
       ":   1. 0.855758874505174\n",
       "2. 1.04558011460119\n",
       "3. 3.15389415261099\n",
       "4. -1.91187171458362\n",
       "\n",
       "\n",
       "\n",
       "$value\n",
       ":   1.73427071768683e-05\n",
       "$counts\n",
       ":   function\n",
       ":   109gradient\n",
       ":   &lt;NA&gt;\n",
       "\n",
       "\n",
       "$convergence\n",
       ":   0\n",
       "$message\n",
       ":   NULL\n",
       "\n",
       "\n"
      ],
      "text/plain": [
       "$par\n",
       "[1]  0.8557589  1.0455801  3.1538942 -1.9118717\n",
       "\n",
       "$value\n",
       "[1] 1.734271e-05\n",
       "\n",
       "$counts\n",
       "function gradient \n",
       "     109       NA \n",
       "\n",
       "$convergence\n",
       "[1] 0\n",
       "\n",
       "$message\n",
       "NULL\n"
      ]
     },
     "metadata": {},
     "output_type": "display_data"
    }
   ],
   "source": [
    "(result <- optim(par = c(1, 1, 3, -2), fn=min.RSS, data=df))"
   ]
  },
  {
   "cell_type": "code",
   "execution_count": 58,
   "metadata": {
    "vscode": {
     "languageId": "r"
    }
   },
   "outputs": [],
   "source": [
    "fit <- glm(filler_x / filler_y ~ log(dens_orig) + log(dens_dest) + log(distance + 1) - 1, family=quasipoisson(link = \"log\"), data=df_subset)"
   ]
  },
  {
   "cell_type": "code",
   "execution_count": 59,
   "metadata": {
    "vscode": {
     "languageId": "r"
    }
   },
   "outputs": [
    {
     "data": {
      "text/plain": [
       "\n",
       "Call:\n",
       "glm(formula = filler_x/filler_y ~ log(dens_orig) + log(dens_dest) + \n",
       "    log(distance + 1) - 1, family = quasipoisson(link = \"log\"), \n",
       "    data = df_subset)\n",
       "\n",
       "Deviance Residuals: \n",
       "     Min        1Q    Median        3Q       Max  \n",
       "-0.25997  -0.11451  -0.04928   0.03525   1.09188  \n",
       "\n",
       "Coefficients:\n",
       "                  Estimate Std. Error t value Pr(>|t|)    \n",
       "log(dens_orig)     0.11889    0.04960   2.397  0.01701 *  \n",
       "log(dens_dest)     0.12948    0.04300   3.011  0.00277 ** \n",
       "log(distance + 1) -0.42909    0.02286 -18.771  < 2e-16 ***\n",
       "---\n",
       "Signif. codes:  0 '***' 0.001 '**' 0.01 '*' 0.05 '.' 0.1 ' ' 1\n",
       "\n",
       "(Dispersion parameter for quasipoisson family taken to be 0.03881856)\n",
       "\n",
       "    Null deviance: 694.1084  on 390  degrees of freedom\n",
       "Residual deviance:   9.1499  on 387  degrees of freedom\n",
       "AIC: NA\n",
       "\n",
       "Number of Fisher Scoring iterations: 6\n"
      ]
     },
     "metadata": {},
     "output_type": "display_data"
    }
   ],
   "source": [
    "summary(fit)"
   ]
  }
 ],
 "metadata": {
  "kernelspec": {
   "display_name": "R",
   "language": "R",
   "name": "ir"
  },
  "language_info": {
   "codemirror_mode": "r",
   "file_extension": ".r",
   "mimetype": "text/x-r-source",
   "name": "R",
   "pygments_lexer": "r",
   "version": "4.0.5"
  },
  "orig_nbformat": 4
 },
 "nbformat": 4,
 "nbformat_minor": 2
}
