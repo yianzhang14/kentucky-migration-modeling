{
 "cells": [
  {
   "cell_type": "code",
   "execution_count": 1,
   "id": "e17e5e43",
   "metadata": {},
   "outputs": [],
   "source": [
    "import pandas as pd\n",
    "import numpy as np\n",
    "import biogeme.database as db\n",
    "import biogeme.biogeme as bio\n",
    "from biogeme import models\n",
    "from biogeme.expressions import Beta\n",
    "from biogeme.expressions import log\n",
    "import math"
   ]
  },
  {
   "cell_type": "code",
   "execution_count": 2,
   "id": "9b9da201",
   "metadata": {},
   "outputs": [
    {
     "data": {
      "text/html": [
       "<div>\n",
       "<style scoped>\n",
       "    .dataframe tbody tr th:only-of-type {\n",
       "        vertical-align: middle;\n",
       "    }\n",
       "\n",
       "    .dataframe tbody tr th {\n",
       "        vertical-align: top;\n",
       "    }\n",
       "\n",
       "    .dataframe thead th {\n",
       "        text-align: right;\n",
       "    }\n",
       "</style>\n",
       "<table border=\"1\" class=\"dataframe\">\n",
       "  <thead>\n",
       "    <tr style=\"text-align: right;\">\n",
       "      <th></th>\n",
       "      <th>Unnamed: 0</th>\n",
       "      <th>RT</th>\n",
       "      <th>SERIALNO</th>\n",
       "      <th>DIVISION</th>\n",
       "      <th>SPORDER</th>\n",
       "      <th>PUMA</th>\n",
       "      <th>REGION</th>\n",
       "      <th>ST</th>\n",
       "      <th>ADJINC</th>\n",
       "      <th>PWGTP</th>\n",
       "      <th>...</th>\n",
       "      <th>EDU_ORIG</th>\n",
       "      <th>MED_ORIG</th>\n",
       "      <th>ENT_ORIG</th>\n",
       "      <th>JOBS_IND_HOSFOOD_ORIG</th>\n",
       "      <th>MISC_ORIG</th>\n",
       "      <th>ADM.1_ORIG</th>\n",
       "      <th>JOBS_EDU_NOHS_ORIG</th>\n",
       "      <th>JOBS_EDU_HS_ORIG</th>\n",
       "      <th>JOBS_EDU_NOBACH_ORIG</th>\n",
       "      <th>JOBS_EDU_BACH_ORIG</th>\n",
       "    </tr>\n",
       "  </thead>\n",
       "  <tbody>\n",
       "    <tr>\n",
       "      <th>0</th>\n",
       "      <td>0</td>\n",
       "      <td>P</td>\n",
       "      <td>2018GQ0000289</td>\n",
       "      <td>6</td>\n",
       "      <td>1</td>\n",
       "      <td>800</td>\n",
       "      <td>3</td>\n",
       "      <td>21</td>\n",
       "      <td>1013097</td>\n",
       "      <td>69</td>\n",
       "      <td>...</td>\n",
       "      <td>3259</td>\n",
       "      <td>5613</td>\n",
       "      <td>161</td>\n",
       "      <td>3103</td>\n",
       "      <td>578</td>\n",
       "      <td>1686</td>\n",
       "      <td>3315</td>\n",
       "      <td>10113</td>\n",
       "      <td>8855</td>\n",
       "      <td>5408</td>\n",
       "    </tr>\n",
       "    <tr>\n",
       "      <th>1</th>\n",
       "      <td>1</td>\n",
       "      <td>P</td>\n",
       "      <td>2018GQ0000475</td>\n",
       "      <td>6</td>\n",
       "      <td>1</td>\n",
       "      <td>2200</td>\n",
       "      <td>3</td>\n",
       "      <td>21</td>\n",
       "      <td>1013097</td>\n",
       "      <td>121</td>\n",
       "      <td>...</td>\n",
       "      <td>34755</td>\n",
       "      <td>68360</td>\n",
       "      <td>7481</td>\n",
       "      <td>44186</td>\n",
       "      <td>12992</td>\n",
       "      <td>11022</td>\n",
       "      <td>40679</td>\n",
       "      <td>108224</td>\n",
       "      <td>122145</td>\n",
       "      <td>102563</td>\n",
       "    </tr>\n",
       "    <tr>\n",
       "      <th>2</th>\n",
       "      <td>2</td>\n",
       "      <td>P</td>\n",
       "      <td>2018GQ0000520</td>\n",
       "      <td>6</td>\n",
       "      <td>1</td>\n",
       "      <td>500</td>\n",
       "      <td>3</td>\n",
       "      <td>21</td>\n",
       "      <td>1013097</td>\n",
       "      <td>62</td>\n",
       "      <td>...</td>\n",
       "      <td>6469</td>\n",
       "      <td>9610</td>\n",
       "      <td>822</td>\n",
       "      <td>7312</td>\n",
       "      <td>1470</td>\n",
       "      <td>1997</td>\n",
       "      <td>5416</td>\n",
       "      <td>14733</td>\n",
       "      <td>14982</td>\n",
       "      <td>11331</td>\n",
       "    </tr>\n",
       "    <tr>\n",
       "      <th>3</th>\n",
       "      <td>3</td>\n",
       "      <td>P</td>\n",
       "      <td>2018GQ0000533</td>\n",
       "      <td>6</td>\n",
       "      <td>1</td>\n",
       "      <td>1901</td>\n",
       "      <td>3</td>\n",
       "      <td>21</td>\n",
       "      <td>1013097</td>\n",
       "      <td>88</td>\n",
       "      <td>...</td>\n",
       "      <td>5030</td>\n",
       "      <td>5937</td>\n",
       "      <td>758</td>\n",
       "      <td>4643</td>\n",
       "      <td>1300</td>\n",
       "      <td>2074</td>\n",
       "      <td>4903</td>\n",
       "      <td>15067</td>\n",
       "      <td>12674</td>\n",
       "      <td>7907</td>\n",
       "    </tr>\n",
       "    <tr>\n",
       "      <th>4</th>\n",
       "      <td>4</td>\n",
       "      <td>P</td>\n",
       "      <td>2018GQ0000676</td>\n",
       "      <td>6</td>\n",
       "      <td>1</td>\n",
       "      <td>500</td>\n",
       "      <td>3</td>\n",
       "      <td>21</td>\n",
       "      <td>1013097</td>\n",
       "      <td>73</td>\n",
       "      <td>...</td>\n",
       "      <td>6469</td>\n",
       "      <td>9610</td>\n",
       "      <td>822</td>\n",
       "      <td>7312</td>\n",
       "      <td>1470</td>\n",
       "      <td>1997</td>\n",
       "      <td>5416</td>\n",
       "      <td>14733</td>\n",
       "      <td>14982</td>\n",
       "      <td>11331</td>\n",
       "    </tr>\n",
       "  </tbody>\n",
       "</table>\n",
       "<p>5 rows × 488 columns</p>\n",
       "</div>"
      ],
      "text/plain": [
       "   Unnamed: 0 RT       SERIALNO  DIVISION  SPORDER  PUMA  REGION  ST   ADJINC  \\\n",
       "0           0  P  2018GQ0000289         6        1   800       3  21  1013097   \n",
       "1           1  P  2018GQ0000475         6        1  2200       3  21  1013097   \n",
       "2           2  P  2018GQ0000520         6        1   500       3  21  1013097   \n",
       "3           3  P  2018GQ0000533         6        1  1901       3  21  1013097   \n",
       "4           4  P  2018GQ0000676         6        1   500       3  21  1013097   \n",
       "\n",
       "   PWGTP  ...  EDU_ORIG  MED_ORIG  ENT_ORIG  JOBS_IND_HOSFOOD_ORIG  MISC_ORIG  \\\n",
       "0     69  ...      3259      5613       161                   3103        578   \n",
       "1    121  ...     34755     68360      7481                  44186      12992   \n",
       "2     62  ...      6469      9610       822                   7312       1470   \n",
       "3     88  ...      5030      5937       758                   4643       1300   \n",
       "4     73  ...      6469      9610       822                   7312       1470   \n",
       "\n",
       "   ADM.1_ORIG  JOBS_EDU_NOHS_ORIG  JOBS_EDU_HS_ORIG  JOBS_EDU_NOBACH_ORIG  \\\n",
       "0        1686                3315             10113                  8855   \n",
       "1       11022               40679            108224                122145   \n",
       "2        1997                5416             14733                 14982   \n",
       "3        2074                4903             15067                 12674   \n",
       "4        1997                5416             14733                 14982   \n",
       "\n",
       "   JOBS_EDU_BACH_ORIG  \n",
       "0                5408  \n",
       "1              102563  \n",
       "2               11331  \n",
       "3                7907  \n",
       "4               11331  \n",
       "\n",
       "[5 rows x 488 columns]"
      ]
     },
     "execution_count": 2,
     "metadata": {},
     "output_type": "execute_result"
    }
   ],
   "source": [
    "# read the data\n",
    "df = pd.read_csv(\"data/ky_estdata.csv\")\n",
    "df.head()"
   ]
  },
  {
   "cell_type": "code",
   "execution_count": 3,
   "id": "3a2d783b",
   "metadata": {},
   "outputs": [],
   "source": [
    "puma_acs_data = pd.read_csv(\"data/ACS_2018.csv\")\n",
    "puma_lodes_data = pd.read_csv(\"data/wac_puma.csv\")\n",
    "\n",
    "puma_acs_data[\"Geo_FIPS\"] = puma_acs_data[\"Geo_FIPS\"].astype(str).str.zfill(7)\n",
    "puma_acs_data = puma_acs_data.set_index(\"Geo_FIPS\")\n",
    "\n",
    "puma_lodes_data[\"puma\"] = puma_lodes_data[\"puma\"].astype(str).str.zfill(7)\n",
    "puma_lodes_data = puma_lodes_data.set_index(\"puma\")"
   ]
  },
  {
   "cell_type": "code",
   "execution_count": 4,
   "id": "ed962f8f",
   "metadata": {},
   "outputs": [
    {
     "data": {
      "text/plain": [
       "Index(['2100100', '2100200', '2101500', '2100300', '2101400', '2100600',\n",
       "       '2101100', '2100700', '2102000', '2101200', '2100900', '2101000',\n",
       "       '2102800', '2101800', '2102300', '2102700', '2100800', '2102600',\n",
       "       '2101600', '2102100', '2102500', '2102200', '2101901', '2101902',\n",
       "       '2102400', '2101704', '2101705', '2101703', '2101702', '2101701',\n",
       "       '2101706', '2100400', '2101300', '2100500'],\n",
       "      dtype='object')"
      ]
     },
     "execution_count": 4,
     "metadata": {},
     "output_type": "execute_result"
    }
   ],
   "source": [
    "distances = pd.read_csv(\"data/ky_distances.csv\").set_index(\"Unnamed: 0\")\n",
    "distances.columns"
   ]
  },
  {
   "cell_type": "code",
   "execution_count": 5,
   "id": "1b788d6c",
   "metadata": {},
   "outputs": [],
   "source": [
    "# clean up the database\n",
    "df = df.select_dtypes(['number'])\n",
    "df = df.fillna(0)"
   ]
  },
  {
   "cell_type": "code",
   "execution_count": 6,
   "id": "6588d0a3",
   "metadata": {},
   "outputs": [],
   "source": [
    "df['CHOSEN_PUMA'] = df['CHOSEN']\n",
    "df['CHOSEN'] = 0\n",
    "for i in range(1, 35): \n",
    "    var = 'ALT' + str(i) + '_PUMA'\n",
    "    df['CHOSEN'] = np.where(df[var]==df['CHOSEN_PUMA'], i, df['CHOSEN'])"
   ]
  },
  {
   "cell_type": "code",
   "execution_count": 7,
   "id": "cd6dfdbe",
   "metadata": {},
   "outputs": [
    {
     "data": {
      "text/plain": [
       "0       0\n",
       "1       1\n",
       "2       1\n",
       "3       1\n",
       "4       1\n",
       "       ..\n",
       "3988    0\n",
       "3989    0\n",
       "3990    0\n",
       "3991    0\n",
       "3992    0\n",
       "Name: IN_COLLEGE, Length: 3993, dtype: int32"
      ]
     },
     "execution_count": 7,
     "metadata": {},
     "output_type": "execute_result"
    }
   ],
   "source": [
    "df[\"IN_COLLEGE\"] = np.where(df[\"SCHG\"] == 15, 1, 0)\n",
    "df[\"IN_COLLEGE\"]"
   ]
  },
  {
   "cell_type": "code",
   "execution_count": 8,
   "id": "d2491423",
   "metadata": {},
   "outputs": [],
   "source": [
    "df[\"AGE_18_34\"] = np.where(df[\"AGEP\"] <= 34, 1, 0)\n",
    "df[\"AGE_35_64\"] = np.where((df[\"AGEP\"] >= 35) & (df[\"AGEP\"] <= 64), 1, 0)\n",
    "df[\"AGE_OVER_65\"] = np.where((df[\"AGEP\"] >= 65), 1, 0)\n",
    "df[\"FOREIGN\"] = np.where(df[\"NATIVITY\"] == 2, 1, 0)"
   ]
  },
  {
   "cell_type": "code",
   "execution_count": 9,
   "id": "09839d17",
   "metadata": {},
   "outputs": [],
   "source": [
    "database = db.Database('ky_data', df)"
   ]
  },
  {
   "cell_type": "code",
   "execution_count": 10,
   "id": "60d6e344",
   "metadata": {},
   "outputs": [],
   "source": [
    "# The following statement allows you to use the names of the\n",
    "# variable as Python variable.\n",
    "globals().update(database.variables)"
   ]
  },
  {
   "cell_type": "code",
   "execution_count": 11,
   "id": "131558f0",
   "metadata": {},
   "outputs": [],
   "source": [
    "puma_acs_data[\"UNEMP\"] = puma_acs_data[\"Population 16 Years and Over in Labor Force Civilian Unemployed\"] / puma_acs_data[\"Population 16 Years and Over in Labor Force Civilian\"]\n",
    "puma_acs_data[\"COLLEGE\"] = puma_acs_data[\"Population 3 Years and Over Enrolled in School Private School College\"] + puma_acs_data[\"Population 3 Years and Over Enrolled in School Public School College\"]\n",
    "puma_acs_data[\"VACANCY_PCT\"] = puma_acs_data[\"Housing Units Vacant\"] / puma_acs_data[\"Housing Units\"]"
   ]
  },
  {
   "cell_type": "code",
   "execution_count": 12,
   "id": "504b5c89",
   "metadata": {},
   "outputs": [],
   "source": [
    "# Parameters to be estimated\n",
    "c_emp=Beta('c_emp', 0, None, None, 0)\n",
    "c_dist=Beta('c_dist', 0, None, None, 0)\n",
    "c_logdist=Beta('c_logdist', 0, None, None, 0)\n",
    "c_time=Beta('c_time', 0, None, None, 0)\n",
    "c_unemp = Beta(\"c_unemp\", 0, None, None, 0)\n",
    "c_hhinc = Beta(\"c_hhinc\", 0, None, None, 0)\n",
    "c_internal = Beta(\"c_internal\", 0, None, None, 0)\n",
    "c_urban = Beta(\"c_urban\", 0, None, None, 0)\n",
    "c_huprice = Beta(\"c_huprice\", 0, None, None, 0)\n",
    "c_hurent = Beta(\"c_hurent\", 0, None, None, 0)\n",
    "c_vacancy = Beta(\"c_vacancy\", 0, None, None, 0)\n",
    "c_college = Beta(\"c_college\", 0, None, None, 0)\n",
    "c_age_18_34 = Beta(\"c_age_18_34\", 0, None, None, 0)\n",
    "c_age_35_64 = Beta(\"c_age_35_64\", 0, None, None, 0)\n",
    "c_age_OVER_65 = Beta(\"c_age_OVER_65\", 0, None, None, 0)\n",
    "c_foreign = Beta(\"c_foreign\", 0, None, None, 0)\n",
    "\n",
    "\n",
    "# V0 = c_inc * PINC + c_age1830 * AGE1830 + c_married * MARRIED"
   ]
  },
  {
   "cell_type": "code",
   "execution_count": 13,
   "id": "ebe2d09f",
   "metadata": {},
   "outputs": [
    {
     "data": {
      "text/plain": [
       "Index(['Unnamed: 0', 'DIVISION', 'SPORDER', 'PUMA', 'REGION', 'ST', 'ADJINC',\n",
       "       'PWGTP', 'AGEP', 'CIT',\n",
       "       ...\n",
       "       'JOBS_EDU_NOHS_ORIG', 'JOBS_EDU_HS_ORIG', 'JOBS_EDU_NOBACH_ORIG',\n",
       "       'JOBS_EDU_BACH_ORIG', 'CHOSEN_PUMA', 'IN_COLLEGE', 'AGE_18_34',\n",
       "       'AGE_35_64', 'AGE_OVER_65', 'FOREIGN'],\n",
       "      dtype='object', length=490)"
      ]
     },
     "execution_count": 13,
     "metadata": {},
     "output_type": "execute_result"
    }
   ],
   "source": [
    "df.columns"
   ]
  },
  {
   "cell_type": "code",
   "execution_count": 23,
   "id": "34454d87",
   "metadata": {},
   "outputs": [
    {
     "name": "stdout",
     "output_type": "stream",
     "text": [
      "(((((((((((log(`196280`) + (c_dist(-9.54774355809149e-06) * ALT1_DIST)) + (c_logdist(0) * log((ALT1_DIST + `1`)))) + (c_hhinc(1.694784870156998e-05) * `45561`)) + ((c_urban(-0.01590436806676023) / DENS_ORIG) * (`236.724896654487` - DENS_ORIG))) + (c_hurent(-0.002206947637847175) * `700`)) + ((c_college(0.00016196643456364604) * IN_COLLEGE) * `12344`)) + (c_vacancy(1.409723109120851) * `0.1783103294515363`)) + ((c_foreign(3.634816748699458e-05) * FOREIGN) * `2733`)) + (((c_age_18_34(0) * AGE_18_34) * `41282`) / `196280`)) + (((c_age_35_64(0) * AGE_35_64) * `74145`) / `196280`)) + (((c_age_OVER_65(0) * AGE_OVER_65) * `39562`) / `196280`))\n"
     ]
    }
   ],
   "source": [
    "for i, puma in enumerate(distances.columns):\n",
    "    num = i + 1\n",
    "    initialization = \"V{0} = log(int(puma_acs_data.loc['{1}', 'Total Population'])) + c_dist * ALT{0}_DIST + c_logdist * log(ALT{0}_DIST + 1) + c_hhinc * int(puma_acs_data.loc['{1}', 'Median Household Income (In 2019 Inflation Adjusted Dollars)']) + c_urban / DENS_ORIG * (puma_acs_data.loc['{1}', 'Population Density (Per Sq. Mile)'] - DENS_ORIG) + c_hurent * int(puma_acs_data.loc['{1}', 'Median Gross Rent']) + c_college * IN_COLLEGE * int(puma_acs_data.loc['{1}', 'COLLEGE']) + c_vacancy * float(puma_acs_data.loc['{1}', 'VACANCY_PCT']) + c_foreign * FOREIGN * int(puma_acs_data.loc['{1}', 'Total Population Foreign Born']) + c_age_18_34 * AGE_18_34 * int(puma_acs_data.loc['{1}', 'Total Population 18 to 34 Years']) / int(puma_acs_data.loc['{1}', 'Total Population']) + c_age_35_64 *AGE_35_64 * int(puma_acs_data.loc['{1}', 'Total Population 35 to 64 Years']) / int(puma_acs_data.loc['{1}', 'Total Population']) + c_age_OVER_65 * AGE_OVER_65 * int(puma_acs_data.loc['{1}', 'Total Population 65 and Over']) / int(puma_acs_data.loc['{1}', 'Total Population'])\".format(num, puma)\n",
    "    exec(initialization)\n",
    "print(V1)"
   ]
  },
  {
   "cell_type": "code",
   "execution_count": 24,
   "id": "efe6909b",
   "metadata": {},
   "outputs": [
    {
     "name": "stdout",
     "output_type": "stream",
     "text": [
      "                  Value       Std err     t-test       p-value  Rob. Std err  \\\n",
      "c_age_18_34    3.943581  7.321138e-01   5.386568  7.181580e-08  7.382175e-01   \n",
      "c_age_35_64   -4.154439  1.589953e+00  -2.612932  8.976922e-03  1.567709e+00   \n",
      "c_age_OVER_65 -1.258992  2.831537e+00  -0.444632  6.565856e-01  2.844319e+00   \n",
      "c_college      0.000138  9.501173e-06  14.527768  0.000000e+00  9.149896e-06   \n",
      "c_dist        -0.000008  4.087109e-07 -19.134180  0.000000e+00  5.351840e-07   \n",
      "c_foreign      0.000040  1.669614e-05   2.366969  1.793445e-02  1.385364e-05   \n",
      "c_hhinc        0.000024  3.686906e-06   6.621078  3.565903e-11  3.681668e-06   \n",
      "c_hurent      -0.002679  3.472709e-04  -7.713542  1.221245e-14  3.553084e-04   \n",
      "c_logdist     -0.212328  6.291619e-03 -33.747724  0.000000e+00  7.586219e-03   \n",
      "c_urban       -0.020169  5.865252e-03  -3.438715  5.844832e-04  6.426160e-03   \n",
      "c_vacancy      1.801158  6.590677e-01   2.732887  6.278184e-03  6.268338e-01   \n",
      "\n",
      "               Rob. t-test  Rob. p-value  \n",
      "c_age_18_34       5.342031  9.191085e-08  \n",
      "c_age_35_64      -2.650007  8.049018e-03  \n",
      "c_age_OVER_65    -0.442634  6.580305e-01  \n",
      "c_college        15.085510  0.000000e+00  \n",
      "c_dist          -14.612447  0.000000e+00  \n",
      "c_foreign         2.852624  4.335985e-03  \n",
      "c_hhinc           6.630497  3.345590e-11  \n",
      "c_hurent         -7.539052  4.729550e-14  \n",
      "c_logdist       -27.988622  0.000000e+00  \n",
      "c_urban          -3.138566  1.697767e-03  \n",
      "c_vacancy         2.873422  4.060519e-03  \n"
     ]
    }
   ],
   "source": [
    "# Associate utility functions with the numbering of alternatives\n",
    "V = {1: V1, 2: V2, 3: V3, 4: V4, 5: V5, 6: V6, 7: V7, 8: V8, 9: V9, 10: V10, 11: V11, 12: V12, 13: V13, 14: V14, 15: V15, 16: V16, 17: V17, 18: V18, 19: V19, 20: V20, 21: V21, 22: V22, 23: V23, 24: V24, 25: V25, 26: V26, 27: V27, 28: V28, 29: V29, 30: V30, 31: V31, 32: V32, 33: V33, 34: V34}\n",
    "\n",
    "# Associate the availability conditions with the alternatives\n",
    "#av = {1: AV1, 2: AV2, 3: AV3, 4: AV4, 5: AV5, 6: AV6, 7: AV7, 8: AV8, 9: AV9, 10: AV10, 11: AV11, 12: AV12, 13: AV13, 14: AV14, 15: AV15, 16: AV16, 17: AV17, 18: AV18, 19: AV19, 20: AV20, 21: AV21, 22: AV22, 23: AV23, 24: AV24, 25: AV25, 26: AV26, 27: AV27, 28: AV28, 29: AV29, 30: AV30, 31: AV31, 32: AV32, 33: AV33, 34: AV34}\n",
    "av = {}\n",
    "for i in range(1, 35):\n",
    "    av[i] = 1\n",
    "\n",
    "# Definition of the model. This is the contribution of each\n",
    "# observation to the log likelihood function.\n",
    "logprob = models.loglogit(V, av, CHOSEN)\n",
    "\n",
    "# Create the Biogeme object\n",
    "biogeme = bio.BIOGEME(database, logprob)\n",
    "biogeme.modelName = 'ky_final1'\n",
    "\n",
    "# Calculate the null log likelihood for reporting.\n",
    "biogeme.calculateNullLoglikelihood(av)\n",
    "\n",
    "# Estimate the parameters\n",
    "results = biogeme.estimate()\n",
    "\n",
    "# Get the results in a pandas table\n",
    "pandasResults = results.getEstimatedParameters()\n",
    "print(pandasResults)"
   ]
  },
  {
   "cell_type": "code",
   "execution_count": 16,
   "id": "93ef1ed2",
   "metadata": {},
   "outputs": [],
   "source": [
    "# start from there and add -- for destination choice\n",
    "# UNEMPLOYMENT RATE\n",
    "# MED RENT\n",
    "# MED HOUSE PRICE\n",
    "# RURAL to RURAL\n",
    "# RURAL to URBAN\n",
    "# URBAN to URBAN \n",
    "# URBAN to RURAL\n",
    "# MEDIAN INCOME of alternative PUMA\n",
    "# VACANCY RATE (VACANCY / HOUSING UNITS)\n",
    "# RENT as PERCENT OF INCOME in DEST -- better to do median rent as a percent of my income\n",
    "# OWNERSHIP COST as PERCENT OF INCOME -- median home price as a percent of my income\n",
    "\n",
    "\n",
    "\n",
    "# % of POP AGE 18-30 - if I\"m 18-30, am I more likely to go there\n",
    "# % of POP AGE 65+ - if I\"m age 65+\n",
    "# INCOME(of the person) * URBAN (of the alternative)"
   ]
  },
  {
   "cell_type": "code",
   "execution_count": 17,
   "id": "e8173ca4",
   "metadata": {},
   "outputs": [],
   "source": [
    "# then add one more alternative for: Didn't move.  "
   ]
  }
 ],
 "metadata": {
  "kernelspec": {
   "display_name": "Python 3",
   "language": "python",
   "name": "python3"
  },
  "language_info": {
   "codemirror_mode": {
    "name": "ipython",
    "version": 3
   },
   "file_extension": ".py",
   "mimetype": "text/x-python",
   "name": "python",
   "nbconvert_exporter": "python",
   "pygments_lexer": "ipython3",
   "version": "3.8.12"
  }
 },
 "nbformat": 4,
 "nbformat_minor": 5
}
